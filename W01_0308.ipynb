{
  "nbformat": 4,
  "nbformat_minor": 0,
  "metadata": {
    "colab": {
      "provenance": [],
      "authorship_tag": "ABX9TyNErFl8rwIrHuDrX4bepJiD",
      "include_colab_link": true
    },
    "kernelspec": {
      "name": "python3",
      "display_name": "Python 3"
    },
    "language_info": {
      "name": "python"
    }
  },
  "cells": [
    {
      "cell_type": "markdown",
      "metadata": {
        "id": "view-in-github",
        "colab_type": "text"
      },
      "source": [
        "<a href=\"https://colab.research.google.com/github/ynebin/class2024Spring/blob/main/W1_0308.ipynb\" target=\"_parent\"><img src=\"https://colab.research.google.com/assets/colab-badge.svg\" alt=\"Open In Colab\"/></a>"
      ]
    },
    {
      "cell_type": "markdown",
      "source": [
        "# Class Introduction\n",
        "\n",
        "## Table of Contents\n",
        "\n",
        "1. [History of the English Language](#history)\n",
        "2. [Python Programming](#python)\n",
        "\n",
        "---\n",
        "\n",
        "<a name=\"history\"></a>\n",
        "## History of the English Language</h2>\n",
        "\n",
        "### 1. Old English (449 ~ 1100)\n",
        "\n",
        "  - Originated from the Anglo-Saxon settlers: the Angles, Saxons, and Jutes\n",
        "  - Heavily influenced by Germanic tribes\n",
        "  - Characterized by complex grammar and vocabulary\n",
        "\n",
        "### 2. Middle English (1100 ~ 1500)\n",
        "\n",
        "  - Began after the Norman Conquest, which introduced French as the language of the ruling classes\n",
        "  - Saw a significant blend of Norman (French) influence with the existing Anglo-Saxon (Old English)\n",
        "\n",
        "### 3. Early Modern English (1500 ~ 1800)\n",
        "\n",
        "  - Marked by the influence of the Renaissance, which brought an influx of Latin and Greek words into the English vocabulary\n",
        "  - The period of William Shakespeare and the King James Bible\n",
        "  - The Great Vowel Shift, a major change in pronunciation, occurred during this period\n",
        "  - Witnessed the beginning of English colonization, which would later spread the language globally\n",
        "\n",
        "### 4. Modern English (1800 ~)\n",
        "\n",
        "  - Modern English has simplified grammar but a significantly expanded vocabulary due to influences from many languages\n",
        "  - The advent of technology and the internet has led to the rapid evolution of English in the digital age\n",
        "\n",
        "---\n",
        "\n",
        "<a name=\"python\"></a>\n",
        "## Python\n",
        "\n",
        "Python is a high-level programming language known for its clear syntax and readability.\n",
        "\n",
        "### Usage\n",
        "\n",
        "* Data analysis and visualization\n",
        "* Web development\n",
        "* Game development\n",
        "* Animation and graphic design\n",
        "* Artificial intelligence\n",
        "* etc.\n",
        "\n",
        "### Features\n",
        "\n",
        "* **Readability**: Python syntax is designed to be readable and clean, which makes it easy to learn and use.\n",
        "* **Versatility**: Its extensive standard library and a wide range of third-party packages make Python suitable for almost any programming task.\n",
        "* **Strong community support**: Python has a large, active community that contributes to a vast ecosystem of libraries, frameworks, and tools.\n",
        "* **Cross-platform compatibility**: Python programs can run on various operating systems including Windows, Linux, and macOS without requiring changes to the code.\n"
      ],
      "metadata": {
        "id": "kWvBPkmEs19h"
      }
    }
  ]
}