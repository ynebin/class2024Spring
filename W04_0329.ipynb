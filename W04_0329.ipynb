{
  "nbformat": 4,
  "nbformat_minor": 0,
  "metadata": {
    "colab": {
      "provenance": [],
      "collapsed_sections": [
        "Fd0RacLqVfjb"
      ],
      "authorship_tag": "ABX9TyObUGa8aC1lhc9iftIOx/gb",
      "include_colab_link": true
    },
    "kernelspec": {
      "name": "python3",
      "display_name": "Python 3"
    },
    "language_info": {
      "name": "python"
    }
  },
  "cells": [
    {
      "cell_type": "markdown",
      "metadata": {
        "id": "view-in-github",
        "colab_type": "text"
      },
      "source": [
        "<a href=\"https://colab.research.google.com/github/ynebin/class2024Spring/blob/main/W04_0329.ipynb\" target=\"_parent\"><img src=\"https://colab.research.google.com/assets/colab-badge.svg\" alt=\"Open In Colab\"/></a>"
      ]
    },
    {
      "cell_type": "markdown",
      "source": [
        "<h1>Week 4:\n",
        "<br>\n",
        "Control Flows & Functions</h1>"
      ],
      "metadata": {
        "id": "0cTVpk5d33SQ"
      }
    },
    {
      "cell_type": "markdown",
      "source": [
        "## if\n",
        "\n",
        "Executes a code block conditionally, depending on whether a specific condition is `True` or `False`"
      ],
      "metadata": {
        "id": "Sp-GFtmx4Am8"
      }
    },
    {
      "cell_type": "markdown",
      "source": [
        "<h3>Condition</h3>\n",
        "\n",
        "An expression that results in either `True` or `False`"
      ],
      "metadata": {
        "id": "_siau9XU5Mai"
      }
    },
    {
      "cell_type": "code",
      "source": [
        "temperature = 32\n",
        "\n",
        "print(temperature > 30)"
      ],
      "metadata": {
        "id": "kb0-O2635Ljb",
        "colab": {
          "base_uri": "https://localhost:8080/"
        },
        "outputId": "dd8ab372-bcc6-4a16-8994-751ffaf1ea36"
      },
      "execution_count": null,
      "outputs": [
        {
          "output_type": "stream",
          "name": "stdout",
          "text": [
            "True\n"
          ]
        }
      ]
    },
    {
      "cell_type": "code",
      "execution_count": null,
      "metadata": {
        "id": "12goEHVq3sAj",
        "colab": {
          "base_uri": "https://localhost:8080/"
        },
        "outputId": "16be7007-8909-46f3-dd79-b6ae843159b5"
      },
      "outputs": [
        {
          "output_type": "stream",
          "name": "stdout",
          "text": [
            "The weather is hot.\n"
          ]
        }
      ],
      "source": [
        "# Used as condition in if statement\n",
        "\n",
        "if temperature > 30:\n",
        "  print(\"The weather is hot.\")"
      ]
    },
    {
      "cell_type": "markdown",
      "source": [
        "<h3>else</h3>\n",
        "\n",
        "Executes a code block only if the condition in the if statement is `False`"
      ],
      "metadata": {
        "id": "npqQnL3j7BBZ"
      }
    },
    {
      "cell_type": "code",
      "source": [
        "temperature = 20\n",
        "\n",
        "if temperature > 30:\n",
        "  print(\"The weather is hot.\")\n",
        "else:\n",
        "  print(\"The weather is nice.\")"
      ],
      "metadata": {
        "id": "7YnI5w847K8i",
        "colab": {
          "base_uri": "https://localhost:8080/"
        },
        "outputId": "15363365-a1d8-465b-9a72-f0410b82016a"
      },
      "execution_count": null,
      "outputs": [
        {
          "output_type": "stream",
          "name": "stdout",
          "text": [
            "The weather is nice.\n"
          ]
        }
      ]
    },
    {
      "cell_type": "markdown",
      "source": [
        "<h3>elif</h3>\n",
        "\n",
        "Used to check for multiple conditions"
      ],
      "metadata": {
        "id": "SMArPtnx8JW3"
      }
    },
    {
      "cell_type": "code",
      "source": [
        "temperature = 8\n",
        "\n",
        "if temperature > 30:\n",
        "  print(\"The weather is hot.\")\n",
        "elif temperature < 10:\n",
        "  print(\"The weather is cold.\")\n",
        "else:\n",
        "  print(\"The weather is nice.\")"
      ],
      "metadata": {
        "id": "1yFdNJBy71kR",
        "colab": {
          "base_uri": "https://localhost:8080/"
        },
        "outputId": "edf358cd-beaa-443a-e107-65e00f4c9087"
      },
      "execution_count": null,
      "outputs": [
        {
          "output_type": "stream",
          "name": "stdout",
          "text": [
            "The weather is cold.\n"
          ]
        }
      ]
    },
    {
      "cell_type": "markdown",
      "source": [
        "<h3>Complex Condition</h3>\n",
        "\n",
        "Comparison operators and logical operators can be used together"
      ],
      "metadata": {
        "id": "G8Yf52N_9Puq"
      }
    },
    {
      "cell_type": "code",
      "source": [
        "temperature = 20\n",
        "\n",
        "if temperature > 10 and temperature < 30:\n",
        "  print(\"The weather is nice.\")\n",
        "else:\n",
        "  print(\"The weather is bad.\")"
      ],
      "metadata": {
        "id": "Rq9Mk5xG9of-",
        "colab": {
          "base_uri": "https://localhost:8080/"
        },
        "outputId": "4eff7702-5960-4849-a14b-b24cff41870c"
      },
      "execution_count": null,
      "outputs": [
        {
          "output_type": "stream",
          "name": "stdout",
          "text": [
            "The weather is nice.\n"
          ]
        }
      ]
    },
    {
      "cell_type": "markdown",
      "source": [
        "### if statement: Exercise"
      ],
      "metadata": {
        "id": "fmvNnYOgEqH_"
      }
    },
    {
      "cell_type": "markdown",
      "source": [
        "1.\n",
        "\n",
        "Chris is going to stay home if it is raining or snowing outside.\n",
        "<br>\n",
        "Check if Chris will stay home today.\n",
        "<br>\n",
        "<br>\n",
        "\n",
        "|weather|status|\n",
        "|-|-|\n",
        "|rain|false|\n",
        "|snow|true|"
      ],
      "metadata": {
        "id": "DGz24TbQFWf-"
      }
    },
    {
      "cell_type": "code",
      "source": [],
      "metadata": {
        "id": "GbJA2wvIFXAP"
      },
      "execution_count": null,
      "outputs": []
    },
    {
      "cell_type": "code",
      "source": [
        "#@title Answer\n",
        "\n",
        "is_raining = False\n",
        "is_snowing = True\n",
        "\n",
        "if is_raining or is_snowing:\n",
        "  print(\"Chris will stay home today.\")\n",
        "else:\n",
        "  print(\"Chris will go out today.\")"
      ],
      "metadata": {
        "colab": {
          "base_uri": "https://localhost:8080/"
        },
        "id": "LJ9omZ_vleZr",
        "outputId": "1ebcccd5-1801-4553-bdfd-17a1ac5b1559"
      },
      "execution_count": null,
      "outputs": [
        {
          "output_type": "stream",
          "name": "stdout",
          "text": [
            "Chris will stay home today.\n"
          ]
        }
      ]
    },
    {
      "cell_type": "markdown",
      "source": [
        "2.\n",
        "\n",
        "You can park in a parking lot if you have a small car and are a resident of an apartment.\n",
        "<br>\n",
        "Check if you can park your car there.\n",
        "<br>\n",
        "<br>\n",
        "\n",
        "|condition|status|\n",
        "|-|-|\n",
        "|small car|true|\n",
        "|resident|true|"
      ],
      "metadata": {
        "id": "ZBMyGBWNElc1"
      }
    },
    {
      "cell_type": "code",
      "source": [],
      "metadata": {
        "id": "EDzLO5_jFBOx"
      },
      "execution_count": null,
      "outputs": []
    },
    {
      "cell_type": "code",
      "source": [
        "#@title Answer\n",
        "\n",
        "has_small_car = True\n",
        "is_resident = True\n",
        "\n",
        "if has_small_car and is_resident:\n",
        "  print(\"You can park your car.\")\n",
        "else:\n",
        "  print(\"You can't park your car.\")"
      ],
      "metadata": {
        "colab": {
          "base_uri": "https://localhost:8080/"
        },
        "id": "pZ3x50ERl8vU",
        "outputId": "ea2b6496-c47c-4030-9851-bb104b13317e"
      },
      "execution_count": null,
      "outputs": [
        {
          "output_type": "stream",
          "name": "stdout",
          "text": [
            "You can park your car.\n"
          ]
        }
      ]
    },
    {
      "cell_type": "markdown",
      "source": [
        "3.\n",
        "\n",
        "Check if you have a task to complete using `not` operator.\n",
        "<br>\n",
        "<br>\n",
        "task_completed = false"
      ],
      "metadata": {
        "id": "ABBY_jjFEmgy"
      }
    },
    {
      "cell_type": "code",
      "source": [],
      "metadata": {
        "id": "5i3q7zICFAxE"
      },
      "execution_count": null,
      "outputs": []
    },
    {
      "cell_type": "code",
      "source": [
        "#@title Answer\n",
        "\n",
        "task_completed = False\n",
        "\n",
        "if not task_completed:\n",
        "  print(\"You have a task to complete.\")\n",
        "else:\n",
        "  print(\"You completed all the tasks.\")"
      ],
      "metadata": {
        "colab": {
          "base_uri": "https://localhost:8080/"
        },
        "id": "grYwOYBNmNaV",
        "outputId": "4e733ea9-2426-4605-ccd9-6d1bafc6a606"
      },
      "execution_count": null,
      "outputs": [
        {
          "output_type": "stream",
          "name": "stdout",
          "text": [
            "You have a task to complete\n"
          ]
        }
      ]
    },
    {
      "cell_type": "markdown",
      "source": [
        "4.\n",
        "\n",
        "You need to verify if a customer is over 18 and has a valid ID to purchase a product.\n",
        "<br>\n",
        "<br>\n",
        "Customer\n",
        "- 19 years old\n",
        "- has no ID card"
      ],
      "metadata": {
        "id": "CDPWrFUAEmIB"
      }
    },
    {
      "cell_type": "code",
      "source": [],
      "metadata": {
        "id": "O0cL48tkFcxx"
      },
      "execution_count": null,
      "outputs": []
    },
    {
      "cell_type": "code",
      "source": [
        "#@title Answer\n",
        "\n",
        "age = 19\n",
        "has_id_card = False\n",
        "\n",
        "if age > 18 and has_id_card:\n",
        "  print(\"You can buy this product.\")\n",
        "else:\n",
        "  print(\"You are not allowed to buy this product.\")"
      ],
      "metadata": {
        "id": "RhPLytlamh3F"
      },
      "execution_count": null,
      "outputs": []
    },
    {
      "cell_type": "markdown",
      "source": [
        "5.\n",
        "\n",
        "Jane is 16 years old and is 153cm tall.\n",
        "<br>\n",
        "Check if Jane can ride a roller coaster.\n",
        "<br>\n",
        "<br>\n",
        "\n",
        "To ride a roller coaster,\n",
        "<br>\n",
        "one should meet all these conditions:\n",
        "1. over 150cm\n",
        "2. over 15 years old"
      ],
      "metadata": {
        "id": "Yqmm6n-3EnZT"
      }
    },
    {
      "cell_type": "code",
      "source": [],
      "metadata": {
        "id": "8qM8L10TFmED"
      },
      "execution_count": null,
      "outputs": []
    },
    {
      "cell_type": "code",
      "source": [
        "#@title Answer\n",
        "\n",
        "age = 16\n",
        "height = 153\n",
        "\n",
        "if age > 15 and height > 150:\n",
        "  print(\"Jane can ride a roller coaster.\")\n",
        "else:\n",
        "  print(\"Jane is not allowed to ride a roller coaster.\")"
      ],
      "metadata": {
        "id": "eKKIIyZUcawM"
      },
      "execution_count": null,
      "outputs": []
    },
    {
      "cell_type": "markdown",
      "source": [
        "## for\n",
        "\n",
        "Executes a code block repeatedly, once for each element in a sequence"
      ],
      "metadata": {
        "id": "aRcjhwCV984V"
      }
    },
    {
      "cell_type": "code",
      "source": [
        "# Print each element in a list without for loop\n",
        "a = [1, 2, 3, 4]\n",
        "\n",
        "print(a[0])\n",
        "print(a[1])\n",
        "print(a[2])\n",
        "print(a[3])"
      ],
      "metadata": {
        "id": "UrW6ONaAEEG8",
        "colab": {
          "base_uri": "https://localhost:8080/"
        },
        "outputId": "ad88bf40-39dd-43c8-85ed-28cbbacefa60"
      },
      "execution_count": null,
      "outputs": [
        {
          "output_type": "stream",
          "name": "stdout",
          "text": [
            "1\n",
            "2\n",
            "3\n",
            "4\n"
          ]
        }
      ]
    },
    {
      "cell_type": "code",
      "source": [
        "# Print each element in a list with for loop\n",
        "\n",
        "for i in a:\n",
        "  print(i)"
      ],
      "metadata": {
        "id": "IXlVHU8vDqPY",
        "colab": {
          "base_uri": "https://localhost:8080/"
        },
        "outputId": "ca19c34d-0d7a-4539-ef0e-b4cd0f04d72b"
      },
      "execution_count": null,
      "outputs": [
        {
          "output_type": "stream",
          "name": "stdout",
          "text": [
            "1\n",
            "2\n",
            "3\n",
            "4\n"
          ]
        }
      ]
    },
    {
      "cell_type": "code",
      "source": [
        "for c in \"python\":\n",
        "  print(c)"
      ],
      "metadata": {
        "id": "BpoWP4mOD8il",
        "colab": {
          "base_uri": "https://localhost:8080/"
        },
        "outputId": "52a66f7f-c0aa-4768-832a-c39fc4fa87ce"
      },
      "execution_count": null,
      "outputs": [
        {
          "output_type": "stream",
          "name": "stdout",
          "text": [
            "p\n",
            "y\n",
            "t\n",
            "h\n",
            "o\n",
            "n\n"
          ]
        }
      ]
    },
    {
      "cell_type": "markdown",
      "source": [
        "<h3>range()</h3>\n",
        "\n",
        "A function that returns a sequence of numbers"
      ],
      "metadata": {
        "id": "xmCaK8O0FWJn"
      }
    },
    {
      "cell_type": "code",
      "source": [
        "for i in range(4):\n",
        "  print(i)"
      ],
      "metadata": {
        "id": "TvmGLFXVFxHq",
        "colab": {
          "base_uri": "https://localhost:8080/"
        },
        "outputId": "2d0b2768-6e49-4a9e-c491-c6ffd56b2304"
      },
      "execution_count": null,
      "outputs": [
        {
          "output_type": "stream",
          "name": "stdout",
          "text": [
            "0\n",
            "1\n",
            "2\n",
            "3\n"
          ]
        }
      ]
    },
    {
      "cell_type": "code",
      "source": [
        "for i in range(1, 4):\n",
        "  print(i)"
      ],
      "metadata": {
        "id": "8FFU2CVpG70M",
        "colab": {
          "base_uri": "https://localhost:8080/"
        },
        "outputId": "69b7e791-929f-4a0e-b708-d5c013b6fc15"
      },
      "execution_count": null,
      "outputs": [
        {
          "output_type": "stream",
          "name": "stdout",
          "text": [
            "1\n",
            "2\n",
            "3\n"
          ]
        }
      ]
    },
    {
      "cell_type": "markdown",
      "source": [
        "<h3>break</h3>\n",
        "\n",
        "Exits the loop entirely"
      ],
      "metadata": {
        "id": "kxLjN_vBHnZy"
      }
    },
    {
      "cell_type": "code",
      "source": [
        "fruits = [\"apple\", \"banana\", \"orange\", \"cherry\"]\n",
        "\n",
        "for fruit in fruits:\n",
        "  if fruit == \"orange\":\n",
        "    print(\"You found an orange!\")\n",
        "    break  # Exit the loop after finding orange\n",
        "  else:\n",
        "    print(fruit)"
      ],
      "metadata": {
        "id": "hSovd_NHIlvF",
        "colab": {
          "base_uri": "https://localhost:8080/"
        },
        "outputId": "50b81bb3-df95-4f98-da5a-2c3e5acccef4"
      },
      "execution_count": null,
      "outputs": [
        {
          "output_type": "stream",
          "name": "stdout",
          "text": [
            "apple\n",
            "banana\n",
            "You found an orange!\n"
          ]
        }
      ]
    },
    {
      "cell_type": "markdown",
      "source": [
        "### for loop: Exercise"
      ],
      "metadata": {
        "id": "sHpuLKnKEzgm"
      }
    },
    {
      "cell_type": "markdown",
      "source": [
        "1.\n",
        "\n",
        "Print a greeting message to each friend using `for` loop.\n",
        "<br>\n",
        "Do not forget to call each friend's name!"
      ],
      "metadata": {
        "id": "3uR_-NMrH-UL"
      }
    },
    {
      "cell_type": "code",
      "source": [
        "friends = [\"Mia\", \"Liam\", \"Jay\"]\n",
        "\n",
        "# Start from here!"
      ],
      "metadata": {
        "id": "xys835mBINg5"
      },
      "execution_count": null,
      "outputs": []
    },
    {
      "cell_type": "code",
      "source": [
        "#@title Answer\n",
        "\n",
        "friends = [\"Mia\", \"Liam\", \"Jay\"]\n",
        "\n",
        "for friend in friends:\n",
        "  print(\"Hello,\", friend)"
      ],
      "metadata": {
        "colab": {
          "base_uri": "https://localhost:8080/"
        },
        "id": "pINW7_HcdHLU",
        "outputId": "b2659d60-8f90-480f-fa83-468c27db9211"
      },
      "execution_count": null,
      "outputs": [
        {
          "output_type": "stream",
          "name": "stdout",
          "text": [
            "Hello, Mia\n",
            "Hello, Liam\n",
            "Hello, Jay\n"
          ]
        }
      ]
    },
    {
      "cell_type": "markdown",
      "source": [
        "2.\n",
        "\n",
        "You manage a store and need to calculate the total sales from a list of daily sales figures.\n",
        "<br>\n",
        "Use `for` loop to accomplish this job."
      ],
      "metadata": {
        "id": "bicNFZJNGERb"
      }
    },
    {
      "cell_type": "code",
      "source": [
        "daily_sales = [1200, 850, 1500, 990, 1100]\n",
        "total_sales = 0\n",
        "\n",
        "# Start from here!"
      ],
      "metadata": {
        "id": "4Fva9qJeGdnB"
      },
      "execution_count": null,
      "outputs": []
    },
    {
      "cell_type": "code",
      "source": [
        "#@title Answer\n",
        "\n",
        "daily_sales = [1200, 850, 1500, 990, 1100]\n",
        "total_sales = 0\n",
        "\n",
        "for sale in daily_sales:\n",
        "  total_sales += sale  # total_sales = total_sales + sale\n",
        "\n",
        "print(\"total sales:\", total_sales)"
      ],
      "metadata": {
        "colab": {
          "base_uri": "https://localhost:8080/"
        },
        "id": "IvvTNSZYdScY",
        "outputId": "d9ffcf03-c8d8-4c03-f5a4-a0851b8547ce"
      },
      "execution_count": null,
      "outputs": [
        {
          "output_type": "stream",
          "name": "stdout",
          "text": [
            "total sales: 5640\n"
          ]
        }
      ]
    },
    {
      "cell_type": "markdown",
      "source": [
        "3.\n",
        "\n",
        "Count the number of vowels in the following text.\n",
        "<br>\n",
        "<br>\n",
        "\"The cat slept peacefully on the windowsill.\""
      ],
      "metadata": {
        "id": "pRx76WpQGEeI"
      }
    },
    {
      "cell_type": "code",
      "source": [],
      "metadata": {
        "id": "DnuB4GV5KdWw"
      },
      "execution_count": null,
      "outputs": []
    },
    {
      "cell_type": "code",
      "source": [
        "#@title Answer\n",
        "\n",
        "sentence = \"The cat slept peacefully on the windowsill.\"\n",
        "num_vowels = 0\n",
        "\n",
        "for c in sentence:\n",
        "  if c in [ \"a\", \"e\", \"i\", \"o\", \"u\" ]:\n",
        "    num_vowels += 1\n",
        "\n",
        "print(\"number of vowels:\", num_vowels)"
      ],
      "metadata": {
        "colab": {
          "base_uri": "https://localhost:8080/"
        },
        "id": "sTtSQFntdoDk",
        "outputId": "8aa1b8e6-1ba9-4633-8fcf-62a1f7e2c45a"
      },
      "execution_count": null,
      "outputs": [
        {
          "output_type": "stream",
          "name": "stdout",
          "text": [
            "number of vowels: 12\n"
          ]
        }
      ]
    },
    {
      "cell_type": "markdown",
      "source": [
        "4.\n",
        "\n",
        "From 1 to 10, print even numbers only."
      ],
      "metadata": {
        "id": "IBs7m788GEYs"
      }
    },
    {
      "cell_type": "code",
      "source": [],
      "metadata": {
        "id": "TOz32-W7ea92"
      },
      "execution_count": null,
      "outputs": []
    },
    {
      "cell_type": "code",
      "source": [
        "#@title Answer\n",
        "\n",
        "for i in range(1, 11):\n",
        "  if i % 2 == 0:\n",
        "    print(i)"
      ],
      "metadata": {
        "id": "nXc-1BTRH3St",
        "colab": {
          "base_uri": "https://localhost:8080/"
        },
        "outputId": "7bce902c-bbdf-4e28-859f-fe56196d9975"
      },
      "execution_count": null,
      "outputs": [
        {
          "output_type": "stream",
          "name": "stdout",
          "text": [
            "2\n",
            "4\n",
            "6\n",
            "8\n",
            "10\n"
          ]
        }
      ]
    },
    {
      "cell_type": "markdown",
      "source": [
        "5.\n",
        "\n",
        "Assign A for scores >= 90, B for scores >= 80, C for scores >= 70, and D for the rest."
      ],
      "metadata": {
        "id": "SzXNSCy8GEp3"
      }
    },
    {
      "cell_type": "code",
      "source": [
        "scores = [85, 92, 78, 90, 69]\n",
        "grades = []\n",
        "\n",
        "# Start from here!"
      ],
      "metadata": {
        "id": "PHBfb5_rHUvN"
      },
      "execution_count": null,
      "outputs": []
    },
    {
      "cell_type": "code",
      "source": [],
      "metadata": {
        "id": "pMQBYH7VeaMO"
      },
      "execution_count": null,
      "outputs": []
    },
    {
      "cell_type": "code",
      "source": [
        "#@title Answer\n",
        "\n",
        "scores = [85, 92, 78, 90, 69]\n",
        "grades = []\n",
        "\n",
        "for score in scores:\n",
        "  if (score >= 90):\n",
        "    grades.append(\"A\")\n",
        "  elif (score >= 80):\n",
        "    grades.append(\"B\")\n",
        "  elif (score >= 70):\n",
        "    grades.append(\"C\")\n",
        "  else:\n",
        "    grades.append(\"D\")\n",
        "\n",
        "print(\"grades:\", grades)"
      ],
      "metadata": {
        "colab": {
          "base_uri": "https://localhost:8080/"
        },
        "id": "W1uerHtPefqG",
        "outputId": "853aa1b6-f98a-4786-f0ea-99b0fc2d68ab"
      },
      "execution_count": null,
      "outputs": [
        {
          "output_type": "stream",
          "name": "stdout",
          "text": [
            "grades: ['B', 'A', 'C', 'A', 'D']\n"
          ]
        }
      ]
    },
    {
      "cell_type": "markdown",
      "source": [
        "## while\n",
        "\n",
        "Executes a code block repeatedly as long as a specified condition is `True`"
      ],
      "metadata": {
        "id": "tnxerqAz-HBU"
      }
    },
    {
      "cell_type": "code",
      "source": [
        "i = 0\n",
        "\n",
        "while i < 5:\n",
        "  print(i)\n",
        "  i = i + 1"
      ],
      "metadata": {
        "id": "kmFaYf1hNw6d",
        "colab": {
          "base_uri": "https://localhost:8080/"
        },
        "outputId": "8af211bc-d611-4d1d-8ad0-edb4fee799ea"
      },
      "execution_count": null,
      "outputs": [
        {
          "output_type": "stream",
          "name": "stdout",
          "text": [
            "0\n",
            "1\n",
            "2\n",
            "3\n",
            "4\n"
          ]
        }
      ]
    },
    {
      "cell_type": "code",
      "source": [
        "import random\n",
        "\n",
        "i = 0\n",
        "\n",
        "while i < 20:\n",
        "  print(i)\n",
        "  random_int = random.randint(0, 9)\n",
        "  i = i + random_int"
      ],
      "metadata": {
        "id": "_JXr4_w1PcCI",
        "colab": {
          "base_uri": "https://localhost:8080/"
        },
        "outputId": "152ad8d7-91df-463e-bb04-55f79bea1e10"
      },
      "execution_count": null,
      "outputs": [
        {
          "output_type": "stream",
          "name": "stdout",
          "text": [
            "0\n",
            "4\n",
            "6\n",
            "6\n",
            "14\n",
            "17\n"
          ]
        }
      ]
    },
    {
      "cell_type": "markdown",
      "source": [
        "### while loop: Exercise"
      ],
      "metadata": {
        "id": "aUW7UDj0RpxM"
      }
    },
    {
      "cell_type": "markdown",
      "source": [
        "1.\n",
        "\n",
        "Simulate throwing the dice until number 6 comes out.\n",
        "<br>\n",
        "Use `while` loop and `random.randint()` function."
      ],
      "metadata": {
        "id": "LstbQGTSGFn1"
      }
    },
    {
      "cell_type": "code",
      "source": [
        "import random  # You will learn what `import` is soon!\n",
        "\n",
        "# Start from here!"
      ],
      "metadata": {
        "id": "1l-LwUoCOMsl"
      },
      "execution_count": null,
      "outputs": []
    },
    {
      "cell_type": "code",
      "source": [
        "#@title Answer\n",
        "\n",
        "import random\n",
        "\n",
        "dice = 1\n",
        "\n",
        "while dice != 6:\n",
        "  dice = random.randint(1, 6)\n",
        "  print(\"number:\", dice)"
      ],
      "metadata": {
        "colab": {
          "base_uri": "https://localhost:8080/"
        },
        "id": "8kiO2caqhMxm",
        "outputId": "27d0790c-ccbb-4bbc-8b13-0d0f1a4d28aa"
      },
      "execution_count": null,
      "outputs": [
        {
          "output_type": "stream",
          "name": "stdout",
          "text": [
            "number: 5\n",
            "number: 1\n",
            "number: 5\n",
            "number: 2\n",
            "number: 3\n",
            "number: 2\n",
            "number: 4\n",
            "number: 5\n",
            "number: 4\n",
            "number: 4\n",
            "number: 2\n",
            "number: 2\n",
            "number: 5\n",
            "number: 6\n"
          ]
        }
      ]
    },
    {
      "cell_type": "markdown",
      "source": [
        "2.\n",
        "\n",
        "Ensure the user enters a valid age (e.g., from 18 to 65).\n",
        "<br>\n",
        "Use `input()` function, `while` loop and `break`."
      ],
      "metadata": {
        "id": "2YMBZ-eTGFzl"
      }
    },
    {
      "cell_type": "code",
      "source": [],
      "metadata": {
        "id": "O7XqaFHeNCcv"
      },
      "execution_count": null,
      "outputs": []
    },
    {
      "cell_type": "code",
      "source": [
        "#@title Answer\n",
        "\n",
        "while True:\n",
        "  age = int(input(\"Enter your age: \"))\n",
        "\n",
        "  if age >= 18 and age <= 65:\n",
        "    print(\"valid age!\")\n",
        "    break"
      ],
      "metadata": {
        "colab": {
          "base_uri": "https://localhost:8080/"
        },
        "id": "5ATJcQuNjHfQ",
        "outputId": "c61fd520-dc34-4ba6-a9be-f3d9e07d96e2"
      },
      "execution_count": null,
      "outputs": [
        {
          "output_type": "stream",
          "name": "stdout",
          "text": [
            "Enter age: 10\n",
            "Enter age: 28\n",
            "valid age!\n"
          ]
        }
      ]
    },
    {
      "cell_type": "markdown",
      "source": [
        "3.\n",
        "\n",
        "Simulate a simple guessing game where the user has to guess a secret number. <br>\n",
        "Use `input()` function, `while` loop and `break`."
      ],
      "metadata": {
        "id": "ET5ayT7qGFtU"
      }
    },
    {
      "cell_type": "code",
      "source": [],
      "metadata": {
        "id": "MNCeDBz8jpKP"
      },
      "execution_count": null,
      "outputs": []
    },
    {
      "cell_type": "code",
      "source": [
        "#@title Answer\n",
        "\n",
        "secret_number = 11\n",
        "\n",
        "while True:\n",
        "  guess = int(input(\"Guess the number: \"))\n",
        "\n",
        "  if secret_number == guess:\n",
        "    print(\"Success!\")\n",
        "    break\n",
        "  else:\n",
        "    print(\"Nope! Try again.\")"
      ],
      "metadata": {
        "id": "mMe4cIIGNWkQ",
        "colab": {
          "base_uri": "https://localhost:8080/"
        },
        "outputId": "53c30d28-597c-4053-e15d-88d120c9a8d0"
      },
      "execution_count": null,
      "outputs": [
        {
          "output_type": "stream",
          "name": "stdout",
          "text": [
            "Guess the number: 1\n",
            "Nope! Try again.\n",
            "Guess the number: 9\n",
            "Nope! Try again.\n",
            "Guess the number: 5\n",
            "Nope! Try again.\n",
            "Guess the number: 11\n",
            "Success!\n"
          ]
        }
      ]
    },
    {
      "cell_type": "markdown",
      "source": [
        "## Function\n",
        "\n",
        "A reusable code block that performs a specific task"
      ],
      "metadata": {
        "id": "UA32Rjyl-TEf"
      }
    },
    {
      "cell_type": "code",
      "source": [
        "# Python basic functions\n",
        "\n",
        "print(\"Hello\")\n",
        "print(len(\"python\"))"
      ],
      "metadata": {
        "id": "ccWCv59QShqZ",
        "colab": {
          "base_uri": "https://localhost:8080/"
        },
        "outputId": "6037ec2b-dad2-4260-e420-d2ef310d6c53"
      },
      "execution_count": null,
      "outputs": [
        {
          "output_type": "stream",
          "name": "stdout",
          "text": [
            "Hello\n",
            "6\n"
          ]
        }
      ]
    },
    {
      "cell_type": "markdown",
      "source": [
        "<h3>Defining Function</h3>\n",
        "\n",
        "You can create a custom function on your own"
      ],
      "metadata": {
        "id": "sZKY_MF7S0FU"
      }
    },
    {
      "cell_type": "code",
      "source": [
        "def add(x, y):\n",
        "  result = x + y\n",
        "  return result"
      ],
      "metadata": {
        "id": "5hiO4Eq8SY5k"
      },
      "execution_count": null,
      "outputs": []
    },
    {
      "cell_type": "markdown",
      "source": [
        "<h3>Calling Function</h3>\n",
        "\n",
        "You can call (= use) the function you defined"
      ],
      "metadata": {
        "id": "xRvXG49lUoBU"
      }
    },
    {
      "cell_type": "code",
      "source": [
        "print(add(1, 2))"
      ],
      "metadata": {
        "id": "okVbFATITb9p",
        "colab": {
          "base_uri": "https://localhost:8080/"
        },
        "outputId": "5aeb520a-51e7-453c-cae1-17e130d4cdbe"
      },
      "execution_count": null,
      "outputs": [
        {
          "output_type": "stream",
          "name": "stdout",
          "text": [
            "3\n"
          ]
        }
      ]
    },
    {
      "cell_type": "markdown",
      "source": [
        "<h3>Functions without Outputs</h3>\n",
        "\n",
        "Not all functions have to return outputs"
      ],
      "metadata": {
        "id": "nvZs0ZaSU5Nx"
      }
    },
    {
      "cell_type": "code",
      "source": [
        "def greetWithName(name):\n",
        "  print(\"Hello \" + name + \"!\")\n",
        "\n",
        "greetWithName(\"Python\")"
      ],
      "metadata": {
        "id": "xT1GOLA0VDq6",
        "colab": {
          "base_uri": "https://localhost:8080/"
        },
        "outputId": "8fd80b5e-8885-4443-e962-227f38bc0c27"
      },
      "execution_count": null,
      "outputs": [
        {
          "output_type": "stream",
          "name": "stdout",
          "text": [
            "Hello Python!\n"
          ]
        }
      ]
    },
    {
      "cell_type": "markdown",
      "source": [
        "<h3>Functions without Inputs</h3>\n",
        "\n",
        "Not all functions have to receive inputs"
      ],
      "metadata": {
        "id": "5JZJ2Y58VUcn"
      }
    },
    {
      "cell_type": "code",
      "source": [
        "def greet():\n",
        "  print(\"Hello!\")\n",
        "\n",
        "greet()"
      ],
      "metadata": {
        "id": "FEmDApwfVgr2",
        "colab": {
          "base_uri": "https://localhost:8080/"
        },
        "outputId": "6ba07022-304e-4899-881d-44c29fdbbd9a"
      },
      "execution_count": null,
      "outputs": [
        {
          "output_type": "stream",
          "name": "stdout",
          "text": [
            "Hello!\n"
          ]
        }
      ]
    },
    {
      "cell_type": "markdown",
      "source": [
        "### Scope\n",
        "\n",
        "Scopes define the visibility and accessibility of variables throughout your code"
      ],
      "metadata": {
        "id": "Fd0RacLqVfjb"
      }
    },
    {
      "cell_type": "markdown",
      "source": [
        "<h4>Local Scope</h4>\n",
        "\n",
        "Variables declared inside a function are only accessible within that function"
      ],
      "metadata": {
        "id": "9lYRzsL-WfAH"
      }
    },
    {
      "cell_type": "code",
      "source": [
        "def calculate_area(length, width):\n",
        "  area = length * width  # Local variables\n",
        "  return area\n",
        "\n",
        "result = calculate_area(5, 3)\n",
        "print(result)\n",
        "\n",
        "# This will cause an error\n",
        "# print(area)\n",
        "# print(length)\n",
        "# print(width)"
      ],
      "metadata": {
        "id": "2RniO9J3VaZ3",
        "colab": {
          "base_uri": "https://localhost:8080/"
        },
        "outputId": "f9f2c3f5-fbb9-4d61-eca6-9d9ee927a199"
      },
      "execution_count": null,
      "outputs": [
        {
          "output_type": "stream",
          "name": "stdout",
          "text": [
            "15\n"
          ]
        }
      ]
    },
    {
      "cell_type": "markdown",
      "source": [
        "<h4>Global Scope</h4>\n",
        "\n",
        "- Global variables are declared outside of any function, typically at the beginning of the script\n",
        "- They are accessible from anywhere within the script, including all functions"
      ],
      "metadata": {
        "id": "7ZGBv-7pXywR"
      }
    },
    {
      "cell_type": "code",
      "source": [
        "# Global variables\n",
        "length = 5\n",
        "width = 3\n",
        "\n",
        "def calculate_another_area():\n",
        "  return length * width\n",
        "\n",
        "another_result = calculate_another_area()\n",
        "print(another_result)"
      ],
      "metadata": {
        "id": "uPm24dTwXTVS",
        "colab": {
          "base_uri": "https://localhost:8080/"
        },
        "outputId": "60253565-3f77-4a6d-fb3c-e7842f65b5e2"
      },
      "execution_count": null,
      "outputs": [
        {
          "output_type": "stream",
          "name": "stdout",
          "text": [
            "15\n"
          ]
        }
      ]
    },
    {
      "cell_type": "markdown",
      "source": [
        "### Function: Exercise"
      ],
      "metadata": {
        "id": "D5ejmcltZgT2"
      }
    },
    {
      "cell_type": "markdown",
      "source": [
        "1.\n",
        "\n",
        "Define a function that takes two numbers, adds them and returns the result."
      ],
      "metadata": {
        "id": "S5H7JADDS2E7"
      }
    },
    {
      "cell_type": "code",
      "source": [],
      "metadata": {
        "id": "Qea0WAssUb-y"
      },
      "execution_count": null,
      "outputs": []
    },
    {
      "cell_type": "code",
      "source": [
        "#@title Answer\n",
        "\n",
        "def add(num_1, num_2):\n",
        "  return num_1 + num_2"
      ],
      "metadata": {
        "id": "Vc7l4dk2k4_c"
      },
      "execution_count": null,
      "outputs": []
    },
    {
      "cell_type": "markdown",
      "source": [
        "2.\n",
        "\n",
        "Define a function that takes an age in years and returns the corresponding age in days.\n",
        "<br>\n",
        "Assume each year has 365 days."
      ],
      "metadata": {
        "id": "TNaPe-PdThNu"
      }
    },
    {
      "cell_type": "code",
      "source": [],
      "metadata": {
        "id": "UipYek9hTm9N"
      },
      "execution_count": null,
      "outputs": []
    },
    {
      "cell_type": "code",
      "source": [
        "#@title Answer\n",
        "\n",
        "def convert_age(age_in_years):\n",
        "  return int(age_in_years * 365)"
      ],
      "metadata": {
        "id": "de-LUelFlhhy"
      },
      "execution_count": null,
      "outputs": []
    },
    {
      "cell_type": "markdown",
      "source": [
        "3.\n",
        "\n",
        "Define a function that takes a temperature in Farenheit and returns it in Celsius.\n",
        "<br>\n",
        "<br>\n",
        "Formula: $C = \\frac{5}{9}(F - 32)$"
      ],
      "metadata": {
        "id": "OTpR3eonGHTs"
      }
    },
    {
      "cell_type": "code",
      "source": [],
      "metadata": {
        "id": "tYI0EN51PgZG"
      },
      "execution_count": null,
      "outputs": []
    },
    {
      "cell_type": "code",
      "source": [
        "#@title Answer\n",
        "\n",
        "def convert_temperature(farenheit):\n",
        "  return 5/9 * (farenheit - 32)"
      ],
      "metadata": {
        "id": "WDxv13Anl0UT"
      },
      "execution_count": null,
      "outputs": []
    },
    {
      "cell_type": "markdown",
      "source": [
        "4.\n",
        "\n",
        "Define a function that takes the numerical score and returns the corresponding letter grade.\n",
        "<br>\n",
        "<br>\n",
        "Grade thresholds:\n",
        "<br>\n",
        "A: 90 ~ 100\n",
        "<br>\n",
        "B: 80 ~ 89\n",
        "<br>\n",
        "C: 70 ~ 79\n",
        "<br>\n",
        "D: 60 ~ 69\n",
        "<br>\n",
        "F: 0 ~ 60"
      ],
      "metadata": {
        "id": "fQUOVXUXGHYE"
      }
    },
    {
      "cell_type": "code",
      "source": [],
      "metadata": {
        "id": "v4OFilybSVrO"
      },
      "execution_count": null,
      "outputs": []
    },
    {
      "cell_type": "code",
      "source": [
        "#@title Answer\n",
        "\n",
        "def convert_grade(score):\n",
        "  if score >= 90:\n",
        "    return \"A\"\n",
        "  elif score >= 80:\n",
        "    return \"B\"\n",
        "  elif score >= 70:\n",
        "    return \"C\"\n",
        "  elif score >= 60:\n",
        "    return \"D\"\n",
        "  else:\n",
        "    return \"F\""
      ],
      "metadata": {
        "id": "D2SLVmhwl2DL"
      },
      "execution_count": null,
      "outputs": []
    },
    {
      "cell_type": "markdown",
      "source": [
        "5.\n",
        "\n",
        "Define a function that works like `len()` function."
      ],
      "metadata": {
        "id": "BOeC2l9BGHmI"
      }
    },
    {
      "cell_type": "code",
      "source": [],
      "metadata": {
        "id": "AU_9pkwhPHtb"
      },
      "execution_count": null,
      "outputs": []
    },
    {
      "cell_type": "code",
      "source": [
        "#@title Answer\n",
        "\n",
        "def calculate_length(data):\n",
        "  return len(data)"
      ],
      "metadata": {
        "id": "09MPFdwKl3Bu"
      },
      "execution_count": null,
      "outputs": []
    }
  ]
}