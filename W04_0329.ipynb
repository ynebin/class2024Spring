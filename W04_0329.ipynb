{
  "nbformat": 4,
  "nbformat_minor": 0,
  "metadata": {
    "colab": {
      "provenance": [],
      "collapsed_sections": [
        "Sp-GFtmx4Am8",
        "fmvNnYOgEqH_",
        "aRcjhwCV984V",
        "sHpuLKnKEzgm",
        "tnxerqAz-HBU",
        "aUW7UDj0RpxM",
        "Fd0RacLqVfjb",
        "D5ejmcltZgT2"
      ],
      "authorship_tag": "ABX9TyMqdpuv8svdniO+w05WDrf/",
      "include_colab_link": true
    },
    "kernelspec": {
      "name": "python3",
      "display_name": "Python 3"
    },
    "language_info": {
      "name": "python"
    }
  },
  "cells": [
    {
      "cell_type": "markdown",
      "metadata": {
        "id": "view-in-github",
        "colab_type": "text"
      },
      "source": [
        "<a href=\"https://colab.research.google.com/github/ynebin/class2024Spring/blob/main/W04_0329.ipynb\" target=\"_parent\"><img src=\"https://colab.research.google.com/assets/colab-badge.svg\" alt=\"Open In Colab\"/></a>"
      ]
    },
    {
      "cell_type": "markdown",
      "source": [
        "<h1>Week 4:\n",
        "<br>\n",
        "Control Flows & Functions</h1>"
      ],
      "metadata": {
        "id": "0cTVpk5d33SQ"
      }
    },
    {
      "cell_type": "markdown",
      "source": [
        "## if\n",
        "\n",
        "Conditionally executes code block based on whether a certain condition is true or false"
      ],
      "metadata": {
        "id": "Sp-GFtmx4Am8"
      }
    },
    {
      "cell_type": "markdown",
      "source": [
        "<h3>Condition</h3>\n",
        "\n",
        "An expression that evaluates to either `True` or `False`"
      ],
      "metadata": {
        "id": "_siau9XU5Mai"
      }
    },
    {
      "cell_type": "code",
      "source": [
        "temperature = 32\n",
        "\n",
        "print(temperature >= 32)"
      ],
      "metadata": {
        "id": "kb0-O2635Ljb"
      },
      "execution_count": null,
      "outputs": []
    },
    {
      "cell_type": "code",
      "execution_count": null,
      "metadata": {
        "id": "12goEHVq3sAj"
      },
      "outputs": [],
      "source": [
        "# Used as condition in if statement\n",
        "\n",
        "if temperature > 30:\n",
        "  print(\"The weather is hot.\")"
      ]
    },
    {
      "cell_type": "markdown",
      "source": [
        "<h3>else</h3>\n",
        "\n",
        "Executes code block only if the condition in the if statement is `False`"
      ],
      "metadata": {
        "id": "npqQnL3j7BBZ"
      }
    },
    {
      "cell_type": "code",
      "source": [
        "temperature = 20\n",
        "\n",
        "if temperature > 30:\n",
        "  print(\"The weather is hot.\")\n",
        "else:\n",
        "  print(\"The weather is nice.\")"
      ],
      "metadata": {
        "id": "7YnI5w847K8i"
      },
      "execution_count": null,
      "outputs": []
    },
    {
      "cell_type": "markdown",
      "source": [
        "<h3>elif</h3>\n",
        "\n",
        "Used to check for multiple conditions"
      ],
      "metadata": {
        "id": "SMArPtnx8JW3"
      }
    },
    {
      "cell_type": "code",
      "source": [
        "temperature = 8\n",
        "\n",
        "if temperature > 30:\n",
        "  print(\"The weather is hot.\")\n",
        "elif temperature < 10:\n",
        "  print(\"The weather is cold.\")\n",
        "else:\n",
        "  print(\"The weather is nice.\")"
      ],
      "metadata": {
        "id": "1yFdNJBy71kR"
      },
      "execution_count": null,
      "outputs": []
    },
    {
      "cell_type": "markdown",
      "source": [
        "<h3>Complex Condition</h3>\n",
        "\n",
        "Comparison operators and logical operators can be used together"
      ],
      "metadata": {
        "id": "G8Yf52N_9Puq"
      }
    },
    {
      "cell_type": "code",
      "source": [
        "temperature = 20\n",
        "\n",
        "if temperature > 10 and temperature < 30:\n",
        "  print(\"The weather is nice.\")\n",
        "else:\n",
        "  print(\"The weather is bad.\")"
      ],
      "metadata": {
        "id": "Rq9Mk5xG9of-"
      },
      "execution_count": null,
      "outputs": []
    },
    {
      "cell_type": "markdown",
      "source": [
        "### if statement: Exercise"
      ],
      "metadata": {
        "id": "fmvNnYOgEqH_"
      }
    },
    {
      "cell_type": "markdown",
      "source": [
        "1.\n",
        "\n",
        "Chris is going to stay home if it is raining or snowing outside.\n",
        "<br>\n",
        "Check if Chris will go out today.\n",
        "<br>\n",
        "<br>\n",
        "\n",
        "|weather|status|\n",
        "|-|-|\n",
        "|rain|false|\n",
        "|snow|true|"
      ],
      "metadata": {
        "id": "DGz24TbQFWf-"
      }
    },
    {
      "cell_type": "code",
      "source": [],
      "metadata": {
        "id": "GbJA2wvIFXAP"
      },
      "execution_count": null,
      "outputs": []
    },
    {
      "cell_type": "markdown",
      "source": [
        "2.\n",
        "\n",
        "You can park in a parking lot if you have a small car and are a resident of an apartment.\n",
        "<br>\n",
        "Check if you can park your car.\n",
        "<br>\n",
        "<br>\n",
        "\n",
        "|condition|status|\n",
        "|-|-|\n",
        "|small car|true|\n",
        "|resident|true|"
      ],
      "metadata": {
        "id": "ZBMyGBWNElc1"
      }
    },
    {
      "cell_type": "code",
      "source": [],
      "metadata": {
        "id": "EDzLO5_jFBOx"
      },
      "execution_count": null,
      "outputs": []
    },
    {
      "cell_type": "markdown",
      "source": [
        "3.\n",
        "\n",
        "Check if you have a task to complete using `not` operator.\n",
        "<br>\n",
        "<br>\n",
        "task_completed = false"
      ],
      "metadata": {
        "id": "ABBY_jjFEmgy"
      }
    },
    {
      "cell_type": "code",
      "source": [],
      "metadata": {
        "id": "5i3q7zICFAxE"
      },
      "execution_count": null,
      "outputs": []
    },
    {
      "cell_type": "markdown",
      "source": [
        "4.\n",
        "\n",
        "You need to verify if a customer is over 18 and has a valid ID to purchase a product.\n",
        "<br>\n",
        "<br>\n",
        "Customer\n",
        "- 19 years old\n",
        "- has no ID card"
      ],
      "metadata": {
        "id": "CDPWrFUAEmIB"
      }
    },
    {
      "cell_type": "code",
      "source": [],
      "metadata": {
        "id": "O0cL48tkFcxx"
      },
      "execution_count": null,
      "outputs": []
    },
    {
      "cell_type": "markdown",
      "source": [
        "5.\n",
        "\n",
        "Jane is 16 years old and is 153cm tall.\n",
        "<br>\n",
        "Check if Jane can ride a roller coaster.\n",
        "<br>\n",
        "<br>\n",
        "\n",
        "To ride a roller coaster,\n",
        "<br>\n",
        "one should meet all these conditions:\n",
        "1. over 150cm\n",
        "2. over 15 years old"
      ],
      "metadata": {
        "id": "Yqmm6n-3EnZT"
      }
    },
    {
      "cell_type": "code",
      "source": [],
      "metadata": {
        "id": "8qM8L10TFmED"
      },
      "execution_count": null,
      "outputs": []
    },
    {
      "cell_type": "markdown",
      "source": [
        "## for\n",
        "\n",
        "Executes code block repeatedly, once for each element in a sequence"
      ],
      "metadata": {
        "id": "aRcjhwCV984V"
      }
    },
    {
      "cell_type": "code",
      "source": [
        "# Print each element in a list without for loop\n",
        "a = [1, 2, 3, 4]\n",
        "\n",
        "print(a[0])\n",
        "print(a[1])\n",
        "print(a[2])\n",
        "print(a[3])"
      ],
      "metadata": {
        "id": "UrW6ONaAEEG8"
      },
      "execution_count": null,
      "outputs": []
    },
    {
      "cell_type": "code",
      "source": [
        "# Print each element in a list with for loop\n",
        "\n",
        "for i in a:\n",
        "  print(i)"
      ],
      "metadata": {
        "id": "IXlVHU8vDqPY"
      },
      "execution_count": null,
      "outputs": []
    },
    {
      "cell_type": "code",
      "source": [
        "for c in \"python\":\n",
        "  print(c)"
      ],
      "metadata": {
        "id": "BpoWP4mOD8il"
      },
      "execution_count": null,
      "outputs": []
    },
    {
      "cell_type": "markdown",
      "source": [
        "<h3>range()</h3>\n",
        "\n",
        "A function that returns a sequence of numbers"
      ],
      "metadata": {
        "id": "xmCaK8O0FWJn"
      }
    },
    {
      "cell_type": "code",
      "source": [
        "for i in range(4):\n",
        "  print(i)"
      ],
      "metadata": {
        "id": "TvmGLFXVFxHq"
      },
      "execution_count": null,
      "outputs": []
    },
    {
      "cell_type": "code",
      "source": [
        "for i in range(1, 4):\n",
        "  print(i)"
      ],
      "metadata": {
        "id": "8FFU2CVpG70M"
      },
      "execution_count": null,
      "outputs": []
    },
    {
      "cell_type": "markdown",
      "source": [
        "<h3>break</h3>\n",
        "\n",
        "Exits the loop entirely"
      ],
      "metadata": {
        "id": "kxLjN_vBHnZy"
      }
    },
    {
      "cell_type": "code",
      "source": [
        "fruits = [\"apple\", \"banana\", \"orange\", \"cherry\"]\n",
        "\n",
        "for fruit in fruits:\n",
        "  if fruit == \"orange\":\n",
        "    print(\"You found an orange!\")\n",
        "    break  # Exit the loop after finding orange\n",
        "  else:\n",
        "    print(fruit)"
      ],
      "metadata": {
        "id": "hSovd_NHIlvF"
      },
      "execution_count": null,
      "outputs": []
    },
    {
      "cell_type": "markdown",
      "source": [
        "### for loop: Exercise"
      ],
      "metadata": {
        "id": "sHpuLKnKEzgm"
      }
    },
    {
      "cell_type": "markdown",
      "source": [
        "1.\n",
        "\n",
        "Print a greeting message to each friend using `for` loop.\n",
        "<br>\n",
        "Do not forget to call each friend's name!"
      ],
      "metadata": {
        "id": "3uR_-NMrH-UL"
      }
    },
    {
      "cell_type": "code",
      "source": [
        "friend = [\"Mia\", \"Liam\", \"Jay\"]\n",
        "\n",
        "# Start from here!"
      ],
      "metadata": {
        "id": "xys835mBINg5"
      },
      "execution_count": null,
      "outputs": []
    },
    {
      "cell_type": "markdown",
      "source": [
        "2.\n",
        "\n",
        "You manage a store and need to calculate the total sales from a list of daily sales figures.\n",
        "<br>\n",
        "Use `for` loop to accomplish this job."
      ],
      "metadata": {
        "id": "bicNFZJNGERb"
      }
    },
    {
      "cell_type": "code",
      "source": [
        "daily_sales = [1200, 850, 1500, 990, 1100]\n",
        "total_sales = 0\n",
        "\n",
        "# Start from here!"
      ],
      "metadata": {
        "id": "4Fva9qJeGdnB"
      },
      "execution_count": null,
      "outputs": []
    },
    {
      "cell_type": "markdown",
      "source": [
        "3.\n",
        "\n",
        "Count the number of vowels in the following text.\n",
        "<br>\n",
        "<br>\n",
        "\"The cat slept peacefully on the windowsill.\""
      ],
      "metadata": {
        "id": "pRx76WpQGEeI"
      }
    },
    {
      "cell_type": "code",
      "source": [],
      "metadata": {
        "id": "DnuB4GV5KdWw"
      },
      "execution_count": null,
      "outputs": []
    },
    {
      "cell_type": "markdown",
      "source": [
        "4.\n",
        "\n",
        "From 1 to 10, print even numbers only."
      ],
      "metadata": {
        "id": "IBs7m788GEYs"
      }
    },
    {
      "cell_type": "code",
      "source": [],
      "metadata": {
        "id": "nXc-1BTRH3St"
      },
      "execution_count": null,
      "outputs": []
    },
    {
      "cell_type": "markdown",
      "source": [
        "5.\n",
        "\n",
        "Assign A for scores >= 90, B for scores >= 80, C for scores >= 70, and D for the rest."
      ],
      "metadata": {
        "id": "SzXNSCy8GEp3"
      }
    },
    {
      "cell_type": "code",
      "source": [
        "each_scores = [85, 92, 78, 90, 69]\n",
        "each_grades = []\n",
        "\n",
        "# Start from here!"
      ],
      "metadata": {
        "id": "PHBfb5_rHUvN"
      },
      "execution_count": null,
      "outputs": []
    },
    {
      "cell_type": "markdown",
      "source": [
        "## while\n",
        "\n",
        "Executes code block repeatedly as long as a specified condition is `True`"
      ],
      "metadata": {
        "id": "tnxerqAz-HBU"
      }
    },
    {
      "cell_type": "code",
      "source": [
        "i = 0\n",
        "\n",
        "while i < 5:\n",
        "  print(i)\n",
        "  i = i + 1"
      ],
      "metadata": {
        "id": "kmFaYf1hNw6d"
      },
      "execution_count": null,
      "outputs": []
    },
    {
      "cell_type": "code",
      "source": [
        "import random\n",
        "\n",
        "i = 0\n",
        "\n",
        "while i < 20:\n",
        "  print(i)\n",
        "  random_int = random.randint(0, 9)\n",
        "  i = i + random_int"
      ],
      "metadata": {
        "id": "_JXr4_w1PcCI"
      },
      "execution_count": null,
      "outputs": []
    },
    {
      "cell_type": "markdown",
      "source": [
        "### while loop: Exercise"
      ],
      "metadata": {
        "id": "aUW7UDj0RpxM"
      }
    },
    {
      "cell_type": "markdown",
      "source": [
        "1.\n",
        "\n",
        "Simulate throwing the dice until number 6 comes out.\n",
        "<br>\n",
        "Use `while` loop and `random.randint()` function."
      ],
      "metadata": {
        "id": "LstbQGTSGFn1"
      }
    },
    {
      "cell_type": "code",
      "source": [],
      "metadata": {
        "id": "1l-LwUoCOMsl"
      },
      "execution_count": null,
      "outputs": []
    },
    {
      "cell_type": "markdown",
      "source": [
        "2.\n",
        "\n",
        "Ensure the user enters a valid age (e.g., between 18 and 65).\n",
        "<br>\n",
        "Use `input()` function, `while` loop and `break`."
      ],
      "metadata": {
        "id": "2YMBZ-eTGFzl"
      }
    },
    {
      "cell_type": "code",
      "source": [],
      "metadata": {
        "id": "O7XqaFHeNCcv"
      },
      "execution_count": null,
      "outputs": []
    },
    {
      "cell_type": "markdown",
      "source": [
        "3.\n",
        "\n",
        "Simulate a simple guessing game where the user has to guess a secret number. <br>\n",
        "Use `input()` function, `while` loop and `break`."
      ],
      "metadata": {
        "id": "ET5ayT7qGFtU"
      }
    },
    {
      "cell_type": "code",
      "source": [],
      "metadata": {
        "id": "mMe4cIIGNWkQ"
      },
      "execution_count": null,
      "outputs": []
    },
    {
      "cell_type": "markdown",
      "source": [
        "## Function\n",
        "\n",
        "A reusable code block that performs a specific task"
      ],
      "metadata": {
        "id": "UA32Rjyl-TEf"
      }
    },
    {
      "cell_type": "code",
      "source": [
        "# Python basic functions\n",
        "\n",
        "print(\"Hello\")\n",
        "print(len(\"python\"))"
      ],
      "metadata": {
        "id": "ccWCv59QShqZ"
      },
      "execution_count": null,
      "outputs": []
    },
    {
      "cell_type": "markdown",
      "source": [
        "<h3>Defining Function</h3>\n",
        "\n",
        "You can create a custom function on your own"
      ],
      "metadata": {
        "id": "sZKY_MF7S0FU"
      }
    },
    {
      "cell_type": "code",
      "source": [
        "def add(x, y):\n",
        "  result = x + y\n",
        "  return result"
      ],
      "metadata": {
        "id": "5hiO4Eq8SY5k"
      },
      "execution_count": null,
      "outputs": []
    },
    {
      "cell_type": "markdown",
      "source": [
        "<h3>Calling Function</h3>\n",
        "\n",
        "You can call (= use) the function you defined"
      ],
      "metadata": {
        "id": "xRvXG49lUoBU"
      }
    },
    {
      "cell_type": "code",
      "source": [
        "print(add(1, 2))"
      ],
      "metadata": {
        "id": "okVbFATITb9p"
      },
      "execution_count": null,
      "outputs": []
    },
    {
      "cell_type": "markdown",
      "source": [
        "<h3>Functions without Outputs</h3>\n",
        "\n",
        "Not all functions have to return outputs"
      ],
      "metadata": {
        "id": "nvZs0ZaSU5Nx"
      }
    },
    {
      "cell_type": "code",
      "source": [
        "def greetWithName(name):\n",
        "  print(\"Hello \" + name + \"!\")\n",
        "\n",
        "greetWithName(\"Python\")"
      ],
      "metadata": {
        "id": "xT1GOLA0VDq6"
      },
      "execution_count": null,
      "outputs": []
    },
    {
      "cell_type": "markdown",
      "source": [
        "<h3>Functions without Inputs</h3>\n",
        "\n",
        "Not all functions have to receive inputs"
      ],
      "metadata": {
        "id": "5JZJ2Y58VUcn"
      }
    },
    {
      "cell_type": "code",
      "source": [
        "def greet():\n",
        "  print(\"Hello!\")\n",
        "\n",
        "greet()"
      ],
      "metadata": {
        "id": "FEmDApwfVgr2"
      },
      "execution_count": null,
      "outputs": []
    },
    {
      "cell_type": "markdown",
      "source": [
        "### Scope\n",
        "\n",
        "Scopes define the visibility and accessibility of variables throughout your code"
      ],
      "metadata": {
        "id": "Fd0RacLqVfjb"
      }
    },
    {
      "cell_type": "markdown",
      "source": [
        "<h4>Local Scope</h4>\n",
        "\n",
        "Variables declared inside a function are only accessible within that function"
      ],
      "metadata": {
        "id": "9lYRzsL-WfAH"
      }
    },
    {
      "cell_type": "code",
      "source": [
        "def calculate_area(length, width):\n",
        "  area = length * width  # Local variables\n",
        "  return area\n",
        "\n",
        "result = calculate_area(5, 3)\n",
        "print(result)\n",
        "\n",
        "# This will cause an error\n",
        "# print(area)\n",
        "# print(length)\n",
        "# print(width)"
      ],
      "metadata": {
        "id": "2RniO9J3VaZ3"
      },
      "execution_count": null,
      "outputs": []
    },
    {
      "cell_type": "markdown",
      "source": [
        "<h4>Global Scope</h4>\n",
        "\n",
        "- Global variables are declared outside of any function, typically at the beginning of the script\n",
        "- They are accessible from anywhere within the script, including all functions"
      ],
      "metadata": {
        "id": "7ZGBv-7pXywR"
      }
    },
    {
      "cell_type": "code",
      "source": [
        "# Global variables\n",
        "length = 5\n",
        "width = 3\n",
        "\n",
        "def calculate_another_area():\n",
        "  return length * width\n",
        "\n",
        "another_result = calculate_another_area()\n",
        "print(another_result)"
      ],
      "metadata": {
        "id": "uPm24dTwXTVS"
      },
      "execution_count": null,
      "outputs": []
    },
    {
      "cell_type": "markdown",
      "source": [
        "### Function: Exercise"
      ],
      "metadata": {
        "id": "D5ejmcltZgT2"
      }
    },
    {
      "cell_type": "markdown",
      "source": [
        "1.\n",
        "\n",
        "Define a function that takes two numbers, adds them and returns the result."
      ],
      "metadata": {
        "id": "S5H7JADDS2E7"
      }
    },
    {
      "cell_type": "code",
      "source": [],
      "metadata": {
        "id": "Qea0WAssUb-y"
      },
      "execution_count": null,
      "outputs": []
    },
    {
      "cell_type": "markdown",
      "source": [
        "2.\n",
        "\n",
        "Define a function that takes an age in years and returns the corresponding age in days.\n",
        "<br>\n",
        "Assume each year has 365 days."
      ],
      "metadata": {
        "id": "TNaPe-PdThNu"
      }
    },
    {
      "cell_type": "code",
      "source": [],
      "metadata": {
        "id": "UipYek9hTm9N"
      },
      "execution_count": null,
      "outputs": []
    },
    {
      "cell_type": "markdown",
      "source": [
        "3.\n",
        "\n",
        "Define a function that takes a temperature in Farenheit and returns it in Celsius.\n",
        "<br>\n",
        "<br>\n",
        "Formula: $C = \\frac{5}{9}(F - 32)$"
      ],
      "metadata": {
        "id": "OTpR3eonGHTs"
      }
    },
    {
      "cell_type": "code",
      "source": [],
      "metadata": {
        "id": "tYI0EN51PgZG"
      },
      "execution_count": null,
      "outputs": []
    },
    {
      "cell_type": "markdown",
      "source": [
        "4.\n",
        "\n",
        "Define a function that takes the numerical score and returns the corresponding letter grade.\n",
        "<br>\n",
        "<br>\n",
        "Grade thresholds:\n",
        "<br>\n",
        "A: 90 ~ 100\n",
        "<br>\n",
        "B: 80 ~ 89\n",
        "<br>\n",
        "C: 70 ~ 79\n",
        "<br>\n",
        "D: 60 ~ 69\n",
        "<br>\n",
        "F: 0 ~ 60"
      ],
      "metadata": {
        "id": "fQUOVXUXGHYE"
      }
    },
    {
      "cell_type": "code",
      "source": [],
      "metadata": {
        "id": "v4OFilybSVrO"
      },
      "execution_count": null,
      "outputs": []
    },
    {
      "cell_type": "markdown",
      "source": [
        "5.\n",
        "\n",
        "Define a function that works like `len()` function."
      ],
      "metadata": {
        "id": "BOeC2l9BGHmI"
      }
    },
    {
      "cell_type": "code",
      "source": [],
      "metadata": {
        "id": "AU_9pkwhPHtb"
      },
      "execution_count": null,
      "outputs": []
    }
  ]
}