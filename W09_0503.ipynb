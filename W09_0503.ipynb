{
  "nbformat": 4,
  "nbformat_minor": 0,
  "metadata": {
    "colab": {
      "provenance": [],
      "authorship_tag": "ABX9TyO5o7SjNUgn3iiv/pq/Ufc2",
      "include_colab_link": true
    },
    "kernelspec": {
      "name": "python3",
      "display_name": "Python 3"
    },
    "language_info": {
      "name": "python"
    }
  },
  "cells": [
    {
      "cell_type": "markdown",
      "metadata": {
        "id": "view-in-github",
        "colab_type": "text"
      },
      "source": [
        "<a href=\"https://colab.research.google.com/github/ynebin/class2024Spring/blob/main/W09_0503.ipynb\" target=\"_parent\"><img src=\"https://colab.research.google.com/assets/colab-badge.svg\" alt=\"Open In Colab\"/></a>"
      ]
    },
    {
      "cell_type": "markdown",
      "source": [
        "<h1>Week 9.\n",
        "<br>\n",
        "Natural Language Processing</h1>"
      ],
      "metadata": {
        "id": "63GYOqR85wYd"
      }
    },
    {
      "cell_type": "markdown",
      "source": [
        "## Tokenization"
      ],
      "metadata": {
        "id": "6dDlyezhLJPs"
      }
    },
    {
      "cell_type": "code",
      "source": [
        "text = \"The quick, brown foxes are jumping over the lazy dogs.\""
      ],
      "metadata": {
        "id": "mBte5zZZ6F3d"
      },
      "execution_count": null,
      "outputs": []
    },
    {
      "cell_type": "code",
      "source": [
        "import nltk"
      ],
      "metadata": {
        "id": "uinUm4cJ6Jr-"
      },
      "execution_count": null,
      "outputs": []
    },
    {
      "cell_type": "code",
      "source": [
        "# Punkt tokenizer\n",
        "\n",
        "from nltk.tokenize import word_tokenize\n",
        "nltk.download(\"punkt\")\n",
        "\n",
        "words = word_tokenize(text)"
      ],
      "metadata": {
        "id": "9-RyykdsJhkK"
      },
      "execution_count": null,
      "outputs": []
    },
    {
      "cell_type": "code",
      "source": [
        "print(words)"
      ],
      "metadata": {
        "id": "3_oDsu-37Qge"
      },
      "execution_count": null,
      "outputs": []
    },
    {
      "cell_type": "code",
      "source": [
        "# Regular expression tokenizer\n",
        "\n",
        "from nltk.tokenize import RegexpTokenizer\n",
        "\n",
        "retokenize = RegexpTokenizer(\"[\\w]+\")\n",
        "words = retokenize.tokenize(text)"
      ],
      "metadata": {
        "id": "vdpr5fv4KPeT"
      },
      "execution_count": null,
      "outputs": []
    },
    {
      "cell_type": "code",
      "source": [
        "print(words)"
      ],
      "metadata": {
        "id": "aRRTjOtGKlDo"
      },
      "execution_count": null,
      "outputs": []
    },
    {
      "cell_type": "markdown",
      "source": [
        "## Normalization"
      ],
      "metadata": {
        "id": "t7bf40zfLQMd"
      }
    },
    {
      "cell_type": "markdown",
      "source": [
        "<h3>Stemming</h3>"
      ],
      "metadata": {
        "id": "18zpaJgPLWP0"
      }
    },
    {
      "cell_type": "code",
      "source": [
        "from nltk.stem import PorterStemmer\n",
        "\n",
        "stemmer = PorterStemmer()\n",
        "norm_words = [stemmer.stem(w) for w in words]"
      ],
      "metadata": {
        "id": "FhR_rRoXLPbx"
      },
      "execution_count": null,
      "outputs": []
    },
    {
      "cell_type": "code",
      "source": [
        "print(norm_words)"
      ],
      "metadata": {
        "id": "RgWxZKcZLDpD"
      },
      "execution_count": null,
      "outputs": []
    },
    {
      "cell_type": "code",
      "source": [
        "from nltk.stem import LancasterStemmer\n",
        "\n",
        "stemmer = LancasterStemmer()\n",
        "norm_words = [stemmer.stem(w) for w in words]"
      ],
      "metadata": {
        "id": "TfWyxs5ILyOP"
      },
      "execution_count": null,
      "outputs": []
    },
    {
      "cell_type": "code",
      "source": [
        "norm_words"
      ],
      "metadata": {
        "id": "TCqWD86WMBiC"
      },
      "execution_count": null,
      "outputs": []
    },
    {
      "cell_type": "markdown",
      "source": [
        "<h3>Lemmatization</h3>"
      ],
      "metadata": {
        "id": "plUUAsIBMG-C"
      }
    },
    {
      "cell_type": "code",
      "source": [
        "from nltk.stem import WordNetLemmatizer\n",
        "nltk.download(\"wordnet\")\n",
        "\n",
        "lemmatizer = WordNetLemmatizer()\n",
        "norm_words = [lemmatizer.lemmatize(w) for w in words]"
      ],
      "metadata": {
        "id": "Em-ZlDwgMKpN"
      },
      "execution_count": null,
      "outputs": []
    },
    {
      "cell_type": "code",
      "source": [
        "print(norm_words)"
      ],
      "metadata": {
        "id": "Xsk4TY-pMdIN"
      },
      "execution_count": null,
      "outputs": []
    },
    {
      "cell_type": "markdown",
      "source": [
        "## Part-of-speech Tagging"
      ],
      "metadata": {
        "id": "2e1BkTDwOGMQ"
      }
    },
    {
      "cell_type": "code",
      "source": [
        "nltk.download(\"averaged_perceptron_tagger\")\n",
        "\n",
        "pos = nltk.pos_tag(words)"
      ],
      "metadata": {
        "id": "vihwU8ehOS6_"
      },
      "execution_count": null,
      "outputs": []
    },
    {
      "cell_type": "code",
      "source": [
        "print(pos)"
      ],
      "metadata": {
        "id": "WGa1PZ9zOerT"
      },
      "execution_count": null,
      "outputs": []
    },
    {
      "cell_type": "code",
      "source": [
        "norm_words = []\n",
        "\n",
        "for word, tag in pos:\n",
        "  t = tag[0].lower()\n",
        "\n",
        "  if t in [\"a\", \"r\", \"n\", \"v\"]:\n",
        "    norm_words.append(lemmatizer.lemmatize(word, t))\n",
        "    print(f\"{word}: {t}\")\n",
        "  else:\n",
        "    norm_words.append(word)"
      ],
      "metadata": {
        "id": "Uq-Nxb0NOjci"
      },
      "execution_count": null,
      "outputs": []
    },
    {
      "cell_type": "code",
      "source": [
        "print(norm_words)"
      ],
      "metadata": {
        "id": "UC1daE4ZO52U"
      },
      "execution_count": null,
      "outputs": []
    },
    {
      "cell_type": "markdown",
      "source": [
        "## Stopword"
      ],
      "metadata": {
        "id": "2NfDm1pRTTA-"
      }
    },
    {
      "cell_type": "code",
      "source": [
        "from nltk.corpus import stopwords\n",
        "nltk.download(\"stopwords\")"
      ],
      "metadata": {
        "id": "TJQoK_GbTVj-"
      },
      "execution_count": null,
      "outputs": []
    },
    {
      "cell_type": "code",
      "source": [
        "print(words)\n",
        "\n",
        "words = [w for w in words if not w in stopwords.words(\"english\")]\n",
        "print(words)"
      ],
      "metadata": {
        "id": "PmUvfeA7Tc8J"
      },
      "execution_count": null,
      "outputs": []
    },
    {
      "cell_type": "markdown",
      "source": [
        "## Collocation & Concordance"
      ],
      "metadata": {
        "id": "A58NJZNXTzMk"
      }
    },
    {
      "cell_type": "markdown",
      "source": [
        "<h3>Collocation</h3>"
      ],
      "metadata": {
        "id": "wnbtkNwJUiIS"
      }
    },
    {
      "cell_type": "code",
      "source": [
        "nltk.download(\"gutenberg\")\n",
        "\n",
        "text = nltk.corpus.gutenberg.raw(\"carroll-alice.txt\")\n",
        "words = retokenize.tokenize(text)"
      ],
      "metadata": {
        "id": "4-s542NsUlMk"
      },
      "execution_count": null,
      "outputs": []
    },
    {
      "cell_type": "code",
      "source": [
        "print(text[:1000])"
      ],
      "metadata": {
        "id": "DBie_z0cVEwD"
      },
      "execution_count": null,
      "outputs": []
    },
    {
      "cell_type": "code",
      "source": [
        "print(words[:20])"
      ],
      "metadata": {
        "id": "MWH2WeIDDP46"
      },
      "execution_count": null,
      "outputs": []
    },
    {
      "cell_type": "code",
      "source": [
        "nltk.Text(words).collocations()"
      ],
      "metadata": {
        "id": "5thm5_6_VdjP"
      },
      "execution_count": null,
      "outputs": []
    },
    {
      "cell_type": "markdown",
      "source": [
        "<h3>Concordance</h3>"
      ],
      "metadata": {
        "id": "Owd-UAYyUiPH"
      }
    },
    {
      "cell_type": "code",
      "source": [
        "nltk.Text(words).concordance(\"Alice\", 79, 10)"
      ],
      "metadata": {
        "id": "zcjoDgKeVoZI"
      },
      "execution_count": null,
      "outputs": []
    },
    {
      "cell_type": "markdown",
      "source": [
        "<h3>Dispersion Plot</h3>"
      ],
      "metadata": {
        "id": "EWWRDF4JEErP"
      }
    },
    {
      "cell_type": "code",
      "source": [
        "import matplotlib.pyplot as plt\n",
        "\n",
        "characters = [\"Alice\", \"Rabbit\", \"Cat\", \"Hatter\", \"Queen\"]\n",
        "\n",
        "ax = nltk.draw.dispersion_plot(words, characters, ignore_case=True)\n",
        "ax.set_yticks(list(range(len(characters))), reversed(characters))\n",
        "\n",
        "plt.show()"
      ],
      "metadata": {
        "id": "KipVkjPNW5GP"
      },
      "execution_count": null,
      "outputs": []
    },
    {
      "cell_type": "code",
      "source": [
        "nltk.Text(words).similar(\"Alice\")"
      ],
      "metadata": {
        "id": "GfiBUvscOEcd"
      },
      "execution_count": null,
      "outputs": []
    },
    {
      "cell_type": "code",
      "source": [
        "nltk.Text(words).common_contexts([\"Alice\", \"she\"])"
      ],
      "metadata": {
        "id": "cQ16axPZOtT3"
      },
      "execution_count": null,
      "outputs": []
    },
    {
      "cell_type": "markdown",
      "source": [
        "## Frequency Distribution"
      ],
      "metadata": {
        "id": "RshuDGt3QIe4"
      }
    },
    {
      "cell_type": "code",
      "source": [
        "text = nltk.corpus.gutenberg.raw(\"shakespeare-hamlet.txt\")\n",
        "words = retokenize.tokenize(text)"
      ],
      "metadata": {
        "id": "oniam7uwSSq_"
      },
      "execution_count": null,
      "outputs": []
    },
    {
      "cell_type": "code",
      "source": [
        "fd = nltk.FreqDist(words).most_common(20)"
      ],
      "metadata": {
        "id": "10M6dmcRQM80"
      },
      "execution_count": null,
      "outputs": []
    },
    {
      "cell_type": "code",
      "source": [
        "fd"
      ],
      "metadata": {
        "id": "EEsZXOc2QVHT"
      },
      "execution_count": null,
      "outputs": []
    },
    {
      "cell_type": "code",
      "source": [
        "words = [w for w in words if w not in stopwords.words(\"english\")]"
      ],
      "metadata": {
        "id": "Bw-MxlVkQcNj"
      },
      "execution_count": null,
      "outputs": []
    },
    {
      "cell_type": "code",
      "source": [
        "fd = nltk.FreqDist(words).most_common(20)"
      ],
      "metadata": {
        "id": "b8hiXGCWTHEK"
      },
      "execution_count": null,
      "outputs": []
    },
    {
      "cell_type": "code",
      "source": [
        "fd"
      ],
      "metadata": {
        "id": "zL6Glg7ETe5L"
      },
      "execution_count": null,
      "outputs": []
    },
    {
      "cell_type": "code",
      "source": [
        "nltk.Text(words).plot(20)\n",
        "\n",
        "plt.show()"
      ],
      "metadata": {
        "id": "OgwZGsD5Uoyk"
      },
      "execution_count": null,
      "outputs": []
    },
    {
      "cell_type": "markdown",
      "source": [
        "## Wordcloud"
      ],
      "metadata": {
        "id": "76aUeVQcU2Zl"
      }
    },
    {
      "cell_type": "code",
      "source": [
        "from wordcloud import WordCloud, STOPWORDS\n",
        "\n",
        "wc = WordCloud().generate(text)\n",
        "plt.imshow(wc)"
      ],
      "metadata": {
        "id": "XSBBuktZUycB"
      },
      "execution_count": null,
      "outputs": []
    },
    {
      "cell_type": "code",
      "source": [
        "text = nltk.corpus.gutenberg.raw(\"bible-kjv.txt\")\n",
        "\n",
        "wc = WordCloud().generate(text)\n",
        "plt.imshow(wc)"
      ],
      "metadata": {
        "id": "E60bWHf_Veqp"
      },
      "execution_count": null,
      "outputs": []
    }
  ]
}