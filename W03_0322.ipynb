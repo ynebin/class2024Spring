{
  "nbformat": 4,
  "nbformat_minor": 0,
  "metadata": {
    "colab": {
      "provenance": [],
      "collapsed_sections": [
        "d5fm9aW2o_e5",
        "08f2z_NPpNi4",
        "V8c1x7Lfp7B5",
        "njr2U-lbp74F",
        "f4DwX2JkqsW4"
      ],
      "authorship_tag": "ABX9TyMD7CRhlrp1fttrD/P4LSnA",
      "include_colab_link": true
    },
    "kernelspec": {
      "name": "python3",
      "display_name": "Python 3"
    },
    "language_info": {
      "name": "python"
    }
  },
  "cells": [
    {
      "cell_type": "markdown",
      "metadata": {
        "id": "view-in-github",
        "colab_type": "text"
      },
      "source": [
        "<a href=\"https://colab.research.google.com/github/ynebin/class2024Spring/blob/main/W03_0322.ipynb\" target=\"_parent\"><img src=\"https://colab.research.google.com/assets/colab-badge.svg\" alt=\"Open In Colab\"/></a>"
      ]
    },
    {
      "cell_type": "markdown",
      "source": [
        "<h1>Week 3:\n",
        "<br>\n",
        "Python Fundamentals</h1>"
      ],
      "metadata": {
        "id": "AEwHVWvPhXmf"
      }
    },
    {
      "cell_type": "markdown",
      "source": [
        "<h2>Function</h2>"
      ],
      "metadata": {
        "id": "1QsdjoC7h6Ti"
      }
    },
    {
      "cell_type": "code",
      "source": [
        "# This is a comment\n",
        "\n",
        "print(\"Hello!\")"
      ],
      "metadata": {
        "id": "7xbt3by-h55O"
      },
      "execution_count": null,
      "outputs": []
    },
    {
      "cell_type": "markdown",
      "source": [
        "<h2>Operator</h2>\n",
        "\n",
        "Special symbols that perform actions on data"
      ],
      "metadata": {
        "id": "1xSDSB1CiGfe"
      }
    },
    {
      "cell_type": "code",
      "execution_count": null,
      "metadata": {
        "id": "WExDlzaWhWzi"
      },
      "outputs": [],
      "source": [
        "print(1 + 2)"
      ]
    },
    {
      "cell_type": "markdown",
      "source": [
        "<h2>Variable</h2>\n",
        "\n",
        "* A named container that stores a value (== data)\n",
        "* A nickname that points to a specific value (== data)\n",
        "* Assignment operator (=) is used to assign a value (== data) to a variable"
      ],
      "metadata": {
        "id": "6IZQubigjLu8"
      }
    },
    {
      "cell_type": "code",
      "source": [
        "a = \"Hello!\"\n",
        "print(a)"
      ],
      "metadata": {
        "id": "AIcYqTG7jXG0"
      },
      "execution_count": null,
      "outputs": []
    },
    {
      "cell_type": "code",
      "source": [
        "a = \"Bye!\"\n",
        "print(a)"
      ],
      "metadata": {
        "id": "Toh1i1VVjiqb"
      },
      "execution_count": null,
      "outputs": []
    },
    {
      "cell_type": "markdown",
      "source": [
        "## Data Types"
      ],
      "metadata": {
        "id": "89WoR-YUjrxP"
      }
    },
    {
      "cell_type": "markdown",
      "source": [
        "<h3>Data type</h3>\n",
        "\n",
        "Each piece of data has a specific type"
      ],
      "metadata": {
        "id": "-jXfeDBhj9LE"
      }
    },
    {
      "cell_type": "code",
      "source": [
        "a = 1\n",
        "b = \"Hello!\"\n",
        "c = True\n",
        "d = [1, 2, 3]\n",
        "e = {\"a\": 1, \"b\": 2}"
      ],
      "metadata": {
        "id": "IeT3aa7ujrOn"
      },
      "execution_count": null,
      "outputs": []
    },
    {
      "cell_type": "markdown",
      "source": [
        "<h3>type()</h3>\n",
        "\n",
        "A function that returns the data type"
      ],
      "metadata": {
        "id": "xA5Sp5kr5pp9"
      }
    },
    {
      "cell_type": "code",
      "source": [
        "print(type(a))\n",
        "print(type(b))\n",
        "print(type(c))\n",
        "print(type(d))\n",
        "print(type(e))"
      ],
      "metadata": {
        "id": "L2jO3jLLkS0w"
      },
      "execution_count": null,
      "outputs": []
    },
    {
      "cell_type": "markdown",
      "source": [
        "### Number"
      ],
      "metadata": {
        "id": "M8C-GrGZkcdL"
      }
    },
    {
      "cell_type": "code",
      "source": [
        "# Integer\n",
        "\n",
        "a = 1\n",
        "b = 0\n",
        "c = -1"
      ],
      "metadata": {
        "id": "BogVSD-okgwc"
      },
      "execution_count": null,
      "outputs": []
    },
    {
      "cell_type": "code",
      "source": [
        "# Floating-point number\n",
        "\n",
        "a = 3.14159\n",
        "b = 0.0\n",
        "c = -3.14"
      ],
      "metadata": {
        "id": "wqYZJrKPkmz9"
      },
      "execution_count": null,
      "outputs": []
    },
    {
      "cell_type": "markdown",
      "source": [
        "#### Calculation\n",
        "\n",
        "Arithmetic operators can be used for mathematical operations"
      ],
      "metadata": {
        "id": "d5fm9aW2o_e5"
      }
    },
    {
      "cell_type": "code",
      "source": [
        "a = 5\n",
        "b = 3\n",
        "\n",
        "print(a + b)   # Addition\n",
        "print(a - b)   # Subtraction\n",
        "print(a * b)   # Multiplication\n",
        "print(a / b)   # Division"
      ],
      "metadata": {
        "id": "PuVCOUlso-Z3"
      },
      "execution_count": null,
      "outputs": []
    },
    {
      "cell_type": "code",
      "source": [
        "print(a // b)  # Quotient\n",
        "print(a % b)   # Modulus\n",
        "print(a ** b)  # Exponentiation"
      ],
      "metadata": {
        "id": "jPij63m2pKGy"
      },
      "execution_count": null,
      "outputs": []
    },
    {
      "cell_type": "markdown",
      "source": [
        "#### Comparison\n",
        "\n",
        "Comparison operators can be used for comparing data"
      ],
      "metadata": {
        "id": "08f2z_NPpNi4"
      }
    },
    {
      "cell_type": "code",
      "source": [
        "# a = 5\n",
        "# b = 3\n",
        "\n",
        "print(a > b)\n",
        "print(a < b)\n",
        "print(a >= b)\n",
        "print(a <= b)\n",
        "print(a == b)\n",
        "print(a != b)"
      ],
      "metadata": {
        "id": "arBStTdSo8P0"
      },
      "execution_count": null,
      "outputs": []
    },
    {
      "cell_type": "markdown",
      "source": [
        "#### Number: Exercise"
      ],
      "metadata": {
        "id": "msci-0Tat5mX"
      }
    },
    {
      "cell_type": "markdown",
      "source": [
        "1.\n",
        "\n",
        "Your phone battery health is at 80% and you drain 10% while using a navigation app.\n",
        "<br>\n",
        "What percentage is remaining?"
      ],
      "metadata": {
        "id": "jaL_sCUyysZL"
      }
    },
    {
      "cell_type": "code",
      "source": [],
      "metadata": {
        "id": "ujdfZoXoywCp"
      },
      "execution_count": null,
      "outputs": []
    },
    {
      "cell_type": "code",
      "source": [
        "#@title Answer\n",
        "\n",
        "previous_battery = 80\n",
        "used_battery = 10\n",
        "\n",
        "print(\"remaining:\", previous_battery - used_battery)"
      ],
      "metadata": {
        "id": "rfifVGOgfF8B"
      },
      "execution_count": null,
      "outputs": []
    },
    {
      "cell_type": "markdown",
      "source": [
        "2.\n",
        "\n",
        "You're planning a garden and want to find the area.\n",
        "<br>\n",
        "The length is 7 meters and the width is 5 meters."
      ],
      "metadata": {
        "id": "LxQRaV24xR19"
      }
    },
    {
      "cell_type": "code",
      "source": [],
      "metadata": {
        "id": "58GoEYSnx091"
      },
      "execution_count": null,
      "outputs": []
    },
    {
      "cell_type": "code",
      "source": [
        "#@title Answer\n",
        "\n",
        "length = 7\n",
        "width = 5\n",
        "\n",
        "print(\"area (square meters):\", length * width)"
      ],
      "metadata": {
        "id": "HX1Aj-JihsAI"
      },
      "execution_count": null,
      "outputs": []
    },
    {
      "cell_type": "markdown",
      "source": [
        "3.\n",
        "\n",
        "You're at a store and an item is originally priced at KRW 50,000.\n",
        "<br>\n",
        "There's a 10% discount.\n",
        "<br>What's the final price?"
      ],
      "metadata": {
        "id": "tjnBUtryv0vO"
      }
    },
    {
      "cell_type": "code",
      "source": [],
      "metadata": {
        "id": "CSqfHySqzPrM"
      },
      "execution_count": null,
      "outputs": []
    },
    {
      "cell_type": "code",
      "source": [
        "#@title Answer\n",
        "\n",
        "price = 50000\n",
        "discount = 0.1\n",
        "\n",
        "print(\"price (KRW):\", price * (1 - discount))"
      ],
      "metadata": {
        "id": "q532WFcjiczm"
      },
      "execution_count": null,
      "outputs": []
    },
    {
      "cell_type": "markdown",
      "source": [
        "4.\n",
        "\n",
        "You're traveling and see a temperature of 100 degrees Farenheit.\n",
        "<br>\n",
        "What's that in Celsius?\n",
        "<br>\n",
        "<br>\n",
        "Formula: $C = \\frac{5}{9}(F - 32)$"
      ],
      "metadata": {
        "id": "KF72MkvbuaEd"
      }
    },
    {
      "cell_type": "code",
      "source": [],
      "metadata": {
        "id": "rnQ_dMF5xQDo"
      },
      "execution_count": null,
      "outputs": []
    },
    {
      "cell_type": "code",
      "source": [
        "#@title Answer\n",
        "\n",
        "farenheit = 100\n",
        "celsius = 5 / 9 * (farenheit - 32)\n",
        "\n",
        "print(\"Celsius: \", celsius)"
      ],
      "metadata": {
        "id": "R79wA9_MjTNB"
      },
      "execution_count": null,
      "outputs": []
    },
    {
      "cell_type": "markdown",
      "source": [
        "5.\n",
        "\n",
        "Three students, A, B, and C, scored 85, 92, and 76 on their math exam, respectively.\n",
        "<br>\n",
        "What is the average score, and which students scored above it?"
      ],
      "metadata": {
        "id": "jOi9JdG5t-vR"
      }
    },
    {
      "cell_type": "code",
      "source": [],
      "metadata": {
        "id": "OPvJUy_qxPgP"
      },
      "execution_count": null,
      "outputs": []
    },
    {
      "cell_type": "code",
      "source": [
        "#@title Answer\n",
        "\n",
        "score_a = 85\n",
        "score_b = 92\n",
        "score_c = 76\n",
        "\n",
        "average_score = (score_a + score_b + score_c) / 3\n",
        "\n",
        "print(\"A's score is over average:\", score_a > average_score)\n",
        "print(\"B's score is over average:\", score_b > average_score)\n",
        "print(\"C's score is over average:\", score_c > average_score)"
      ],
      "metadata": {
        "id": "1TVfeWB3kFt-"
      },
      "execution_count": null,
      "outputs": []
    },
    {
      "cell_type": "markdown",
      "source": [
        "### Sequence\n",
        "\n",
        "- An ordered collection of data\n",
        "- Can access data by numbers (== index)"
      ],
      "metadata": {
        "id": "wYqwFWq3kuHa"
      }
    },
    {
      "cell_type": "markdown",
      "source": [
        "<h4>String</h4>\n",
        "\n",
        "A sequence of characters that is used to represent text"
      ],
      "metadata": {
        "id": "GUs-k1FKl1Sc"
      }
    },
    {
      "cell_type": "code",
      "source": [
        "a = \"Hello!\"\n",
        "b = 'Hello!'"
      ],
      "metadata": {
        "id": "PcyaS_j2l_go"
      },
      "execution_count": null,
      "outputs": []
    },
    {
      "cell_type": "markdown",
      "source": [
        "<h4>List</h4>\n",
        "\n",
        "A sequence of data of any type"
      ],
      "metadata": {
        "id": "up7plpADll72"
      }
    },
    {
      "cell_type": "code",
      "source": [
        "a = [1, 2, 3]\n",
        "b = [\"red\", \"green\", \"blue\"]\n",
        "c = [1, \"red\", True]"
      ],
      "metadata": {
        "id": "Kzg9g9uRkv1T"
      },
      "execution_count": null,
      "outputs": []
    },
    {
      "cell_type": "markdown",
      "source": [
        "#### Concatenation & Repetition\n",
        "\n",
        "Operators can be used for concatenating or repeating sequences"
      ],
      "metadata": {
        "id": "V8c1x7Lfp7B5"
      }
    },
    {
      "cell_type": "code",
      "source": [
        "a = \"p\"\n",
        "b = \"ython\"\n",
        "\n",
        "print(a + b)  # Concatenate\n",
        "print(a * 3)  # Repeat"
      ],
      "metadata": {
        "id": "lTHBoF9Vp-J9"
      },
      "execution_count": null,
      "outputs": []
    },
    {
      "cell_type": "code",
      "source": [
        "a = [1, 2]\n",
        "b = [3, 4]\n",
        "\n",
        "print(a + b)  # Concatenate\n",
        "print(a * 3)  # Repeat"
      ],
      "metadata": {
        "id": "eAeWB5CVqHdM"
      },
      "execution_count": null,
      "outputs": []
    },
    {
      "cell_type": "markdown",
      "source": [
        "#### Comparison\n",
        "\n",
        "Comparison operators can be used for comparing data"
      ],
      "metadata": {
        "id": "njr2U-lbp74F"
      }
    },
    {
      "cell_type": "code",
      "source": [
        "\n",
        "a = \"Hello!\"\n",
        "b = \"Hi!\"\n",
        "\n",
        "print(a == b)\n",
        "print(a != b)"
      ],
      "metadata": {
        "id": "uDy4l13aqSNL"
      },
      "execution_count": null,
      "outputs": []
    },
    {
      "cell_type": "code",
      "source": [
        "a = [1, 2, 3, 4]\n",
        "b = [2, 3, 4]\n",
        "\n",
        "print(a == b)\n",
        "print(a != b)"
      ],
      "metadata": {
        "id": "32s0n4bBqzo6"
      },
      "execution_count": null,
      "outputs": []
    },
    {
      "cell_type": "code",
      "source": [
        "# In fact, you can compare data of different types\n",
        "\n",
        "a = \"1\"\n",
        "b = 1\n",
        "\n",
        "print(a == b)\n",
        "print(a != b)"
      ],
      "metadata": {
        "id": "eY_WVkP_qtWc"
      },
      "execution_count": null,
      "outputs": []
    },
    {
      "cell_type": "markdown",
      "source": [
        "#### Accessing Element: Indexing\n",
        "\n",
        "Indexing operator can be used for accessing an element in a sequence"
      ],
      "metadata": {
        "id": "f4DwX2JkqsW4"
      }
    },
    {
      "cell_type": "markdown",
      "source": [
        "- Each element's position in a sequence is specified by a number (== index)\n",
        "- Starts from 0"
      ],
      "metadata": {
        "id": "y28xcFD0ql9Y"
      }
    },
    {
      "cell_type": "markdown",
      "source": [
        "|0|1|2|3|4|\n",
        "|-|-|-|-|-|\n",
        "|p|e|a|c|h|"
      ],
      "metadata": {
        "id": "GfkQHPbLygOU"
      }
    },
    {
      "cell_type": "code",
      "source": [
        "a = \"peach\"\n",
        "\n",
        "print(a[0])\n",
        "print(a[1])\n",
        "print(a[2])\n",
        "print(a[3])\n",
        "print(a[4])"
      ],
      "metadata": {
        "id": "rGEC2h8qxeWc"
      },
      "execution_count": null,
      "outputs": []
    },
    {
      "cell_type": "markdown",
      "source": [
        "|0|1|2|3|4|\n",
        "|-|-|-|-|-|\n",
        "|1|2|3|4|5|"
      ],
      "metadata": {
        "id": "H_PBlbxXHkNy"
      }
    },
    {
      "cell_type": "code",
      "source": [
        "b = [1, 2, 3, 4, 5]\n",
        "\n",
        "print(b[0])\n",
        "print(b[1])\n",
        "print(b[2])\n",
        "print(b[3])\n",
        "print(b[4])"
      ],
      "metadata": {
        "id": "OBxFpjSbzk1q"
      },
      "execution_count": null,
      "outputs": []
    },
    {
      "cell_type": "markdown",
      "source": [
        "|-5|-4|-3|-2|-1|\n",
        "|-|-|-|-|-|\n",
        "|p|e|a|c|h|"
      ],
      "metadata": {
        "id": "RMsqTFrGzkKT"
      }
    },
    {
      "cell_type": "code",
      "source": [
        "print(a[-5])\n",
        "print(a[-4])\n",
        "print(a[-3])\n",
        "print(a[-2])\n",
        "print(a[-1])"
      ],
      "metadata": {
        "id": "o6ROrhemzRYa"
      },
      "execution_count": null,
      "outputs": []
    },
    {
      "cell_type": "markdown",
      "source": [
        "|-5|-4|-3|-2|-1|\n",
        "|-|-|-|-|-|\n",
        "|1|2|3|4|5|"
      ],
      "metadata": {
        "id": "y8eujj6Kzx5g"
      }
    },
    {
      "cell_type": "code",
      "source": [
        "print(b[-5])\n",
        "print(b[-4])\n",
        "print(b[-3])\n",
        "print(b[-2])\n",
        "print(b[-1])"
      ],
      "metadata": {
        "id": "x8YWBFKtzyba"
      },
      "execution_count": null,
      "outputs": []
    },
    {
      "cell_type": "markdown",
      "source": [
        "#### Accessing Element: Slicing\n",
        "\n",
        "Indexing operator can be used for accessing a range of elements in a sequence"
      ],
      "metadata": {
        "id": "Sezu0jV81GF-"
      }
    },
    {
      "cell_type": "markdown",
      "source": [
        "|0|1|2|3|4|\n",
        "|-|-|-|-|-|\n",
        "|p|e|a|c|h|\n",
        "\n",
        "<br>\n",
        "<br>\n",
        "\n",
        "|-5|-4|-3|-2|-1|\n",
        "|-|-|-|-|-|\n",
        "|p|e|a|c|h|"
      ],
      "metadata": {
        "id": "rnVc_TRD1coz"
      }
    },
    {
      "cell_type": "code",
      "source": [
        "print(a[2:4])"
      ],
      "metadata": {
        "id": "hFKUoRYs1Jj1"
      },
      "execution_count": null,
      "outputs": []
    },
    {
      "cell_type": "code",
      "source": [
        "print(a[:2])  # Index 0 can be omitted"
      ],
      "metadata": {
        "id": "o1QH0veP1lFQ"
      },
      "execution_count": null,
      "outputs": []
    },
    {
      "cell_type": "code",
      "source": [
        "print(a[-2:])  # The last index can be omitted"
      ],
      "metadata": {
        "id": "-FKLoUwY1xk_"
      },
      "execution_count": null,
      "outputs": []
    },
    {
      "cell_type": "markdown",
      "source": [
        "|0|1|2|3|4|\n",
        "|-|-|-|-|-|\n",
        "|1|2|3|4|5|\n",
        "\n",
        "<br>\n",
        "<br>\n",
        "\n",
        "|-5|-4|-3|-2|-1|\n",
        "|-|-|-|-|-|\n",
        "|1|2|3|4|5|"
      ],
      "metadata": {
        "id": "gVxbXbOA2GY9"
      }
    },
    {
      "cell_type": "code",
      "source": [
        "print(b[1:3])"
      ],
      "metadata": {
        "id": "Uva8FC682HMl"
      },
      "execution_count": null,
      "outputs": []
    },
    {
      "cell_type": "code",
      "source": [
        "print(b[2:])"
      ],
      "metadata": {
        "id": "4nTOUvhg3AYG"
      },
      "execution_count": null,
      "outputs": []
    },
    {
      "cell_type": "code",
      "source": [
        "print(b[:-1])"
      ],
      "metadata": {
        "id": "EqZVUPXF3Jk8"
      },
      "execution_count": null,
      "outputs": []
    },
    {
      "cell_type": "markdown",
      "source": [
        "#### Updating Existing Element **(LIST ONLY)**\n",
        "\n",
        "Indexing operator with assignment operator can be used for updating an element."
      ],
      "metadata": {
        "id": "TqAAHC893hbH"
      }
    },
    {
      "cell_type": "code",
      "source": [
        "b[-1] = 4\n",
        "print(b)"
      ],
      "metadata": {
        "id": "RS--VHLd3opP"
      },
      "execution_count": null,
      "outputs": []
    },
    {
      "cell_type": "code",
      "source": [
        "b[1:3] = [6, 7, 8]\n",
        "print(b)"
      ],
      "metadata": {
        "id": "eywVp8Pj3_mG"
      },
      "execution_count": null,
      "outputs": []
    },
    {
      "cell_type": "markdown",
      "source": [
        "#### Adding Elements **(LIST ONLY)**\n",
        "\n",
        "List methods can be used for adding elements in a list"
      ],
      "metadata": {
        "id": "POnmdiDkHBuV"
      }
    },
    {
      "cell_type": "markdown",
      "source": [
        "<h5>.append()</h5>\n",
        "\n",
        "- A list method that adds an element to the end of a list"
      ],
      "metadata": {
        "id": "PaO4FoeL6_Kf"
      }
    },
    {
      "cell_type": "code",
      "source": [
        "a = [1, 2, 3, 4]\n",
        "\n",
        "a.append(5)\n",
        "print(a)"
      ],
      "metadata": {
        "id": "WSZ7rvzi7K4Q"
      },
      "execution_count": null,
      "outputs": []
    },
    {
      "cell_type": "markdown",
      "source": [
        "<h5>.extend()</h5>\n",
        "\n",
        "A list method that adds multiple elements to the end of a list"
      ],
      "metadata": {
        "id": "E2X_vsFY7txH"
      }
    },
    {
      "cell_type": "code",
      "source": [
        "a.extend([5, 6])\n",
        "print(a)"
      ],
      "metadata": {
        "id": "d_zmVMfT7_uF"
      },
      "execution_count": null,
      "outputs": []
    },
    {
      "cell_type": "markdown",
      "source": [
        "#### Deleting Elements **(LIST ONLY)**\n",
        "\n",
        "List method can be used for deleting elements in a list"
      ],
      "metadata": {
        "id": "_Znsj7QqPb1D"
      }
    },
    {
      "cell_type": "markdown",
      "source": [
        "<h5>.pop()</h5>\n",
        "\n",
        "A list method that deletes and returns the last element from a list"
      ],
      "metadata": {
        "id": "gru9r1LW7Zn1"
      }
    },
    {
      "cell_type": "code",
      "source": [
        "b = a.pop()\n",
        "\n",
        "print(a)\n",
        "print(b)"
      ],
      "metadata": {
        "id": "775xkTj87fe8"
      },
      "execution_count": null,
      "outputs": []
    },
    {
      "cell_type": "markdown",
      "source": [
        "#### Others\n",
        "\n",
        "There are other functions and methods that do some actions on sequences"
      ],
      "metadata": {
        "id": "SvdvhvZ7MttF"
      }
    },
    {
      "cell_type": "markdown",
      "source": [
        "<h5>len()</h5>\n",
        "\n",
        "A function that returns the number of elements"
      ],
      "metadata": {
        "id": "SHsWx_xR40HI"
      }
    },
    {
      "cell_type": "code",
      "source": [
        "a = \"python\"\n",
        "print(len(a))"
      ],
      "metadata": {
        "id": "VufJ-iD_56_H"
      },
      "execution_count": null,
      "outputs": []
    },
    {
      "cell_type": "code",
      "source": [
        "b = [1, 2, 3, 5, 7, 11, 13, 17]\n",
        "print(len(b))"
      ],
      "metadata": {
        "id": "3tZWn7GP6HQ7"
      },
      "execution_count": null,
      "outputs": []
    },
    {
      "cell_type": "markdown",
      "source": [
        "<h5>.replace() <strong>(STRING ONLY)</strong></h5>\n",
        "\n",
        "A string method that returns a replaced string"
      ],
      "metadata": {
        "id": "ApkQ6FxN6hys"
      }
    },
    {
      "cell_type": "code",
      "source": [
        "a = \"Hello world!\"\n",
        "print(a)\n",
        "\n",
        "a = a.replace(\"world\", \"python\")\n",
        "print(a)"
      ],
      "metadata": {
        "id": "rGhdZdES6tnt"
      },
      "execution_count": null,
      "outputs": []
    },
    {
      "cell_type": "markdown",
      "source": [
        "<h5>.split() <strong>(STRING ONLY)</strong></h5>\n",
        "\n",
        "A string method that splits a string and returns a list of substrings"
      ],
      "metadata": {
        "id": "cehdOiu_TMrO"
      }
    },
    {
      "cell_type": "code",
      "source": [
        "a = \"red green blue\"\n",
        "print(a.split(\" \"))"
      ],
      "metadata": {
        "id": "EAz7MVgM1WN6"
      },
      "execution_count": null,
      "outputs": []
    },
    {
      "cell_type": "markdown",
      "source": [
        "#### Sequence: Exercise"
      ],
      "metadata": {
        "id": "RxKHt7LWztdp"
      }
    },
    {
      "cell_type": "markdown",
      "source": [
        "1.\n",
        "\n",
        "Combine these two names to create a fullname.\n",
        "<br>\n",
        "<br>\n",
        "First Name: Alice\n",
        "<br>\n",
        "Last Name: Smith"
      ],
      "metadata": {
        "id": "g53Ve0Kt3dV3"
      }
    },
    {
      "cell_type": "code",
      "source": [],
      "metadata": {
        "id": "zhU6Mlwf2bFE"
      },
      "execution_count": null,
      "outputs": []
    },
    {
      "cell_type": "code",
      "source": [
        "#@title Answer\n",
        "\n",
        "first_name = \"Alice\"\n",
        "last_name = \"Smith\"\n",
        "\n",
        "print(\"fullname:\", first_name + \" \" + last_name)"
      ],
      "metadata": {
        "id": "jJ4fWPKVoLbE"
      },
      "execution_count": null,
      "outputs": []
    },
    {
      "cell_type": "markdown",
      "source": [
        "2.\n",
        "\n",
        "Prove using \"\" and '' has no difference when creating a string."
      ],
      "metadata": {
        "id": "5BtRt1EAz-zB"
      }
    },
    {
      "cell_type": "code",
      "source": [],
      "metadata": {
        "id": "82mHUIdNqIxn"
      },
      "execution_count": null,
      "outputs": []
    },
    {
      "cell_type": "code",
      "source": [
        "#@title Answer\n",
        "\n",
        "string_1 = \"Hello\"\n",
        "string_2 = 'Hello'\n",
        "\n",
        "print(\"no difference:\", string_1 == string_2)"
      ],
      "metadata": {
        "id": "dGtMtGOK2cGq"
      },
      "execution_count": null,
      "outputs": []
    },
    {
      "cell_type": "markdown",
      "source": [
        "3.\n",
        "\n",
        "Fix the typo in the following string.\n",
        "<br>\n",
        "<br>\n",
        "\"Ths sentence has a typo.\""
      ],
      "metadata": {
        "id": "a_G6FwiQ0Wdz"
      }
    },
    {
      "cell_type": "code",
      "source": [],
      "metadata": {
        "id": "8Kz38d10qGbM"
      },
      "execution_count": null,
      "outputs": []
    },
    {
      "cell_type": "code",
      "source": [
        "#@title Answer\n",
        "\n",
        "sentence = \"Ths sentence has a typo.\"\n",
        "correct_sentence = sentence.replace(\"Ths\", \"This\")\n",
        "\n",
        "print(correct_sentence)"
      ],
      "metadata": {
        "id": "_nl6bo2S2SCK"
      },
      "execution_count": null,
      "outputs": []
    },
    {
      "cell_type": "markdown",
      "source": [
        "4.\n",
        "\n",
        "You have a phone number as a string and want to display it in a specific format (XXX-XXX-XXXX).\n",
        "<br>\n",
        "Use string slicing and concatenation to format the phone number.\n",
        "<br>\n",
        "<br>\n",
        "Phone Number: 1234567890"
      ],
      "metadata": {
        "id": "5Ixm-wba0VYx"
      }
    },
    {
      "cell_type": "code",
      "source": [],
      "metadata": {
        "id": "_g26K69S2N3a"
      },
      "execution_count": null,
      "outputs": []
    },
    {
      "cell_type": "code",
      "source": [
        "#@title @Answer\n",
        "\n",
        "number = \"1234567890\"\n",
        "number_formatted = number[:3] + \"-\" + number[3:6] + \"-\" + number[6:]\n",
        "\n",
        "print(number_formatted)"
      ],
      "metadata": {
        "id": "lvyBHV2CqEur"
      },
      "execution_count": null,
      "outputs": []
    },
    {
      "cell_type": "markdown",
      "source": [
        "5.\n",
        "\n",
        "You have two guest lists for a party. Combine them to a single list.\n",
        "<br>\n",
        "<br>\n",
        "Dinner Guests: Chloe, Mark\n",
        "<br>\n",
        "Party Guests: Charlie, Hanna"
      ],
      "metadata": {
        "id": "AwyMhiT657qM"
      }
    },
    {
      "cell_type": "code",
      "source": [],
      "metadata": {
        "id": "abE6C1M32Jm6"
      },
      "execution_count": null,
      "outputs": []
    },
    {
      "cell_type": "code",
      "source": [
        "#@title Answer\n",
        "\n",
        "guests_1 = [\"Chloe\", \"Mark\"]\n",
        "guests_2 = [\"Charlie\", \"Hanna\"]\n",
        "\n",
        "print(\"guests:\", guests_1 + guests_2)"
      ],
      "metadata": {
        "id": "bvcLBp3nrAY9"
      },
      "execution_count": null,
      "outputs": []
    },
    {
      "cell_type": "markdown",
      "source": [
        "6.\n",
        "\n",
        "You want to add items to a shopping cart list.\n",
        "<br>\n",
        "Create an empty shopping cart list and then add new item strings (\"Apples\", \"Breads\", \"Milk\")."
      ],
      "metadata": {
        "id": "F84QmlKN5oR0"
      }
    },
    {
      "cell_type": "code",
      "source": [],
      "metadata": {
        "id": "kozJnRmb2FKM"
      },
      "execution_count": null,
      "outputs": []
    },
    {
      "cell_type": "code",
      "source": [
        "#@title Answer\n",
        "\n",
        "cart = []\n",
        "cart.extend([\"Apples\", \"Breads\", \"Milk\"])\n",
        "\n",
        "print(\"cart:\", cart)"
      ],
      "metadata": {
        "id": "jrKmUzSgrllz"
      },
      "execution_count": null,
      "outputs": []
    },
    {
      "cell_type": "markdown",
      "source": [
        "7.\n",
        "\n",
        "You want to verify if your online store inventory is empty."
      ],
      "metadata": {
        "id": "gPDMchK67KiK"
      }
    },
    {
      "cell_type": "code",
      "source": [
        "online_store_inventory = []  # It is empty!\n",
        "\n",
        "# Start from here!"
      ],
      "metadata": {
        "id": "1uHtc1bg7INM"
      },
      "execution_count": null,
      "outputs": []
    },
    {
      "cell_type": "code",
      "source": [
        "#@title Answer\n",
        "\n",
        "online_store_inventory = []\n",
        "\n",
        "# Answer 1\n",
        "print(\"empty:\", online_store_inventory == [])\n",
        "\n",
        "# Answer 2\n",
        "print(\"empty:\", len(online_store_inventory) == 0)"
      ],
      "metadata": {
        "id": "Q96YzoQ5souP"
      },
      "execution_count": null,
      "outputs": []
    },
    {
      "cell_type": "markdown",
      "source": [
        "8.\n",
        "\n",
        "You want to remove the last played song from your playlist A and move it to another playlist B.\n",
        "<br>\n",
        "<br>\n",
        "playlist A: Song 1, Song 2, Song 3\n",
        "<br>\n",
        "playlist B: Song 4"
      ],
      "metadata": {
        "id": "SfNCcX_u7KYP"
      }
    },
    {
      "cell_type": "code",
      "source": [],
      "metadata": {
        "id": "o1g-o2TK14H5"
      },
      "execution_count": null,
      "outputs": []
    },
    {
      "cell_type": "code",
      "source": [
        "#@title Answer\n",
        "\n",
        "list_a = [\"Song 1\", \"Song 2\", \"Song 3\"]\n",
        "list_b = [\"Song 4\"]\n",
        "\n",
        "song = list_a.pop()\n",
        "list_b.append(song)\n",
        "\n",
        "print(\"playlist A:\", list_a)\n",
        "print(\"playlist B:\", list_b)"
      ],
      "metadata": {
        "id": "kdFy6_ZquCC2"
      },
      "execution_count": null,
      "outputs": []
    },
    {
      "cell_type": "markdown",
      "source": [
        "9.\n",
        "\n",
        "Count the number of words in the following string.\n",
        "<br>\n",
        "<br>\n",
        "\"Today is a beautiful day for a walk!\""
      ],
      "metadata": {
        "id": "-MtVJCtW2l2R"
      }
    },
    {
      "cell_type": "code",
      "source": [],
      "metadata": {
        "id": "mP3nAqZ6LCbh"
      },
      "execution_count": null,
      "outputs": []
    },
    {
      "cell_type": "code",
      "source": [
        "#@title Answer\n",
        "\n",
        "sentence = \"Today is a beautiful day for a walk!\"\n",
        "words = sentence.split(\" \")\n",
        "\n",
        "print(\"number of words:\", len(words))"
      ],
      "metadata": {
        "id": "5LHeWunpu0u0"
      },
      "execution_count": null,
      "outputs": []
    },
    {
      "cell_type": "markdown",
      "source": [
        "10.\n",
        "\n",
        "Extract the month from a date string.\n",
        "<br>\n",
        "<br>\n",
        "\"2024-03-22\""
      ],
      "metadata": {
        "id": "SK7PmawK0Ymx"
      }
    },
    {
      "cell_type": "code",
      "source": [],
      "metadata": {
        "id": "NVwmRb-44cOR"
      },
      "execution_count": null,
      "outputs": []
    },
    {
      "cell_type": "code",
      "source": [
        "#@title Answer\n",
        "\n",
        "date = \"2024-03-22\"\n",
        "split_date = date.split(\"-\")\n",
        "\n",
        "print(\"month:\", split_date[1])"
      ],
      "metadata": {
        "id": "cbXIOi542lIK"
      },
      "execution_count": null,
      "outputs": []
    },
    {
      "cell_type": "markdown",
      "source": [
        "### Mapping: Dictionary\n",
        "\n",
        "- A collection of key-value data pairs\n",
        "- Can access data by keys"
      ],
      "metadata": {
        "id": "_lcMYtSLljaa"
      }
    },
    {
      "cell_type": "code",
      "source": [
        "a = {\"name\": \"Luna\", \"age\": 20}"
      ],
      "metadata": {
        "id": "V7vhjlMZnPsv"
      },
      "execution_count": null,
      "outputs": []
    },
    {
      "cell_type": "markdown",
      "source": [
        "#### Accessing Value\n",
        "\n",
        "Operator can be used for accessing values with keys"
      ],
      "metadata": {
        "id": "kyGGvMWTJUcb"
      }
    },
    {
      "cell_type": "code",
      "source": [
        "print(a[\"name\"])\n",
        "print(a[\"age\"])"
      ],
      "metadata": {
        "id": "1RTW-Z0D8tz8"
      },
      "execution_count": null,
      "outputs": []
    },
    {
      "cell_type": "markdown",
      "source": [
        "#### Updating existing Value\n",
        "\n",
        "Operators can be used for updating existing values"
      ],
      "metadata": {
        "id": "nIE79ey9Jr89"
      }
    },
    {
      "cell_type": "code",
      "source": [
        "print(a)\n",
        "\n",
        "a[\"name\"] = \"Jay\"\n",
        "print(a)"
      ],
      "metadata": {
        "id": "xmVvkpCc83iw"
      },
      "execution_count": null,
      "outputs": []
    },
    {
      "cell_type": "markdown",
      "source": [
        "#### Adding Key & Value\n",
        "\n",
        "Operators can be used for adding new keys and values"
      ],
      "metadata": {
        "id": "d3dmFf3qKFuI"
      }
    },
    {
      "cell_type": "code",
      "source": [
        "# Adding a key-value pair\n",
        "\n",
        "a[\"is_student\"] = True\n",
        "print(a)"
      ],
      "metadata": {
        "id": "9jHjJu3u9VOp"
      },
      "execution_count": null,
      "outputs": []
    },
    {
      "cell_type": "markdown",
      "source": [
        "#### Others\n",
        "\n",
        "There are other functions and methods that do some actions on dictionaries"
      ],
      "metadata": {
        "id": "rd-6aBI5tBjM"
      }
    },
    {
      "cell_type": "markdown",
      "source": [
        "<h5>.keys()</h5>\n",
        "\n",
        "A dictionary method that returns the keys of a dictionary"
      ],
      "metadata": {
        "id": "4Ta6hMKztD10"
      }
    },
    {
      "cell_type": "code",
      "source": [
        "print(a.keys())"
      ],
      "metadata": {
        "id": "nBy_ybSXtKTY"
      },
      "execution_count": null,
      "outputs": []
    },
    {
      "cell_type": "markdown",
      "source": [
        "<h5>.values()</h5>\n",
        "\n",
        "A dictionary method that returns the values of a dictionary"
      ],
      "metadata": {
        "id": "gzMsTmdbtMtg"
      }
    },
    {
      "cell_type": "code",
      "source": [
        "print(a.values())"
      ],
      "metadata": {
        "id": "MR48aCWHtbVM"
      },
      "execution_count": null,
      "outputs": []
    },
    {
      "cell_type": "markdown",
      "source": [
        "<h5>.items()</h5>\n",
        "\n",
        "A dictionary method that returns key-value pairs of a dictionary"
      ],
      "metadata": {
        "id": "7K0S7KUWoszl"
      }
    },
    {
      "cell_type": "code",
      "source": [
        "print(a.items())"
      ],
      "metadata": {
        "id": "OEgLoMKKo7s8"
      },
      "execution_count": null,
      "outputs": []
    },
    {
      "cell_type": "markdown",
      "source": [
        "#### Mapping: Exercise"
      ],
      "metadata": {
        "id": "reluXV0m84eH"
      }
    },
    {
      "cell_type": "markdown",
      "source": [
        "1.\n",
        "\n",
        "Create a phonebook as a dictionary and access Emily's phone number.\n",
        "<br>\n",
        "<br>\n",
        "Phonebook:\n",
        "<br>\n",
        "\n",
        "|name|phone number|\n",
        "|-|-|\n",
        "|Emily|123-456-7890|\n",
        "|Bob|987-654-3210|"
      ],
      "metadata": {
        "id": "XfrBme3k86_k"
      }
    },
    {
      "cell_type": "code",
      "source": [],
      "metadata": {
        "id": "RrIKkzDg96q_"
      },
      "execution_count": null,
      "outputs": []
    },
    {
      "cell_type": "code",
      "source": [
        "#@title Answer\n",
        "\n",
        "phonebook = { \"Emily\": \"123-456-7890\", \"Bob\": \"987-654-3210\" }\n",
        "print(phonebook[\"Emily\"])"
      ],
      "metadata": {
        "id": "KI05UVbSvtcb"
      },
      "execution_count": null,
      "outputs": []
    },
    {
      "cell_type": "markdown",
      "source": [
        "2.\n",
        "\n",
        "You have 2 apples and 1 banana in your shopping cart (dictionary).\n",
        "<br>\n",
        "You put one more apple to the cart.\n",
        "<br>\n",
        "What would the updated cart look like?"
      ],
      "metadata": {
        "id": "WL1c4f-T96Re"
      }
    },
    {
      "cell_type": "code",
      "source": [],
      "metadata": {
        "id": "l-FGnYDc-Wt9"
      },
      "execution_count": null,
      "outputs": []
    },
    {
      "cell_type": "code",
      "source": [
        "#@title Answer\n",
        "\n",
        "# Answer 1\n",
        "cart_1 = { \"Apple\": 2, \"Banana\": 1 }\n",
        "cart_1[\"Apple\"] = 3\n",
        "\n",
        "print(cart_1)\n",
        "\n",
        "# Answer 2\n",
        "cart_2 = { \"Apple\": 2, \"Banana\": 1 }\n",
        "cart_2[\"Apple\"] += 1\n",
        "\n",
        "print(cart_2)"
      ],
      "metadata": {
        "id": "0ra51sHwwFAh"
      },
      "execution_count": null,
      "outputs": []
    },
    {
      "cell_type": "markdown",
      "source": [
        "3.\n",
        "\n",
        "(Continued from 2.)\n",
        "<br>\n",
        "You add two avocados to the cart.\n",
        "<br>\n",
        "What would the cart look like?"
      ],
      "metadata": {
        "id": "ZtZr2uYpAtgq"
      }
    },
    {
      "cell_type": "code",
      "source": [],
      "metadata": {
        "id": "fFO1xXLiA3-u"
      },
      "execution_count": null,
      "outputs": []
    },
    {
      "cell_type": "code",
      "source": [
        "#@title Answer\n",
        "\n",
        "cart_1[\"Avocado\"] = 2  # Or you can use cart_2 variable from question 2\n",
        "print(cart_1)"
      ],
      "metadata": {
        "id": "l5SoiKzapO4T"
      },
      "execution_count": null,
      "outputs": []
    },
    {
      "cell_type": "markdown",
      "source": [
        "4.\n",
        "\n",
        "You are managing a bookstore's inventory as a dictionary.\n",
        "<br>\n",
        "Each book is represented by a dictionary with the book's title as the key and the quantity available as the value.\n",
        "<br>\n",
        "Get all the book titles from the inventory.\n",
        "<br>\n",
        "<br>\n",
        "\n",
        "|title|quantity|\n",
        "|-|-|\n",
        "|Python Programming|20|\n",
        "|Data Science Handbook|15|\n",
        "|Introduction to Algorithms|10|"
      ],
      "metadata": {
        "id": "MSSYteDP-Zor"
      }
    },
    {
      "cell_type": "code",
      "source": [],
      "metadata": {
        "id": "xacyJVmoBLtx"
      },
      "execution_count": null,
      "outputs": []
    },
    {
      "cell_type": "code",
      "source": [
        "#@title Answer\n",
        "\n",
        "inventory = { \"Python Programming\": 20, \"Data Science Handbook\": 15, \"Introduction to Algorithms\": 10 }\n",
        "print(inventory.keys())"
      ],
      "metadata": {
        "id": "gS4gOKLop3SD"
      },
      "execution_count": null,
      "outputs": []
    },
    {
      "cell_type": "markdown",
      "source": [
        "### Boolean"
      ],
      "metadata": {
        "id": "5Z4Jv2_sNG2q"
      }
    },
    {
      "cell_type": "code",
      "source": [
        "a = True\n",
        "b = False"
      ],
      "metadata": {
        "id": "Blpj2RidNIFz"
      },
      "execution_count": null,
      "outputs": []
    },
    {
      "cell_type": "markdown",
      "source": [
        "#### Comparison\n",
        "\n",
        "Comparison operators can be used for comparing data"
      ],
      "metadata": {
        "id": "UD3XnQG8EB-1"
      }
    },
    {
      "cell_type": "code",
      "source": [
        "print(a == b)\n",
        "print(a != b)"
      ],
      "metadata": {
        "id": "zV_gZFWlEE4w"
      },
      "execution_count": null,
      "outputs": []
    },
    {
      "cell_type": "markdown",
      "source": [
        "#### Condition\n",
        "\n",
        "Logical operators can be used for forming conditions"
      ],
      "metadata": {
        "id": "9f9srYUarmHo"
      }
    },
    {
      "cell_type": "markdown",
      "source": [
        "- `and`: returns `True` if two operands are both `True`\n",
        "- `or`: returns `True` if at least one of the operands is `True`\n",
        "- `not`: returns `true` if operand is `false` and vice versa"
      ],
      "metadata": {
        "id": "qCA3FqK3RepO"
      }
    },
    {
      "cell_type": "code",
      "source": [
        "print(a and b)\n",
        "print(a or b)\n",
        "print(not a)\n",
        "print(not b)"
      ],
      "metadata": {
        "id": "uNVVk6zYrjcu"
      },
      "execution_count": null,
      "outputs": []
    },
    {
      "cell_type": "markdown",
      "source": [
        "#### Boolean: Exercise"
      ],
      "metadata": {
        "id": "WcMOe02WBuEQ"
      }
    },
    {
      "cell_type": "markdown",
      "source": [
        "1.\n",
        "\n",
        "Chris is going to stay home if it is raining or snowing outside.\n",
        "<br>\n",
        "Check if Chris will stay home today.\n",
        "<br>\n",
        "<br>\n",
        "\n",
        "|weather|status|\n",
        "|-|-|\n",
        "|rain|false|\n",
        "|snow|true|"
      ],
      "metadata": {
        "id": "SWRYZXM0BxI2"
      }
    },
    {
      "cell_type": "code",
      "source": [],
      "metadata": {
        "id": "efiKe6OSqsYQ"
      },
      "execution_count": null,
      "outputs": []
    },
    {
      "cell_type": "code",
      "source": [
        "#@title Answer\n",
        "\n",
        "is_raining = False\n",
        "is_snowing = True\n",
        "\n",
        "stay_home = is_raining or is_snowing\n",
        "print(\"stay home:\", stay_home)"
      ],
      "metadata": {
        "id": "SEOfwqa6GQQN"
      },
      "execution_count": null,
      "outputs": []
    },
    {
      "cell_type": "markdown",
      "source": [
        "2.\n",
        "\n",
        "You can park in a parking lot if you have a small car and are a resident of an apartment.\n",
        "<br>\n",
        "Check if you can park your car there.\n",
        "<br>\n",
        "<br>\n",
        "\n",
        "|condition|status|\n",
        "|-|-|\n",
        "|small car|true|\n",
        "|resident|true|"
      ],
      "metadata": {
        "id": "MTtt1ufpDyvU"
      }
    },
    {
      "cell_type": "code",
      "source": [],
      "metadata": {
        "id": "dHBiCOxyFmiY"
      },
      "execution_count": null,
      "outputs": []
    },
    {
      "cell_type": "code",
      "source": [
        "#@title Answer\n",
        "\n",
        "has_small_car = True\n",
        "is_resident = True\n",
        "\n",
        "can_park = has_small_car and is_resident\n",
        "print(\"can park:\", can_park)"
      ],
      "metadata": {
        "id": "Sx2pYErpquTZ"
      },
      "execution_count": null,
      "outputs": []
    },
    {
      "cell_type": "markdown",
      "source": [
        "3.\n",
        "\n",
        "Check if you have a task to complete using `not` operator.\n",
        "<br>\n",
        "<br>\n",
        "task_completed = False"
      ],
      "metadata": {
        "id": "z16Exb1wER7r"
      }
    },
    {
      "cell_type": "code",
      "source": [],
      "metadata": {
        "id": "7P-BHbwiGN69"
      },
      "execution_count": null,
      "outputs": []
    },
    {
      "cell_type": "code",
      "source": [
        "#@title Answer\n",
        "\n",
        "task_completed = False\n",
        "print(\"have a task:\", not task_completed)"
      ],
      "metadata": {
        "id": "SCAsSgYxq6k0"
      },
      "execution_count": null,
      "outputs": []
    },
    {
      "cell_type": "markdown",
      "source": [
        "4.\n",
        "\n",
        "You need to verify if a customer is over 18 and has a valid ID to purchase a product.\n",
        "<br>\n",
        "<br>\n",
        "Customer\n",
        "- 19 years old\n",
        "- has no ID card"
      ],
      "metadata": {
        "id": "xoDM11kvESEi"
      }
    },
    {
      "cell_type": "code",
      "source": [],
      "metadata": {
        "id": "ePrDeHswEnbx"
      },
      "execution_count": null,
      "outputs": []
    },
    {
      "cell_type": "code",
      "source": [
        "#@title Answer\n",
        "\n",
        "age = 19\n",
        "has_id_card = False\n",
        "\n",
        "can_purchase = age > 18 and has_id_card\n",
        "print(\"can_purchase:\", can_purchase)"
      ],
      "metadata": {
        "id": "CWbecGH_rPKk"
      },
      "execution_count": null,
      "outputs": []
    },
    {
      "cell_type": "markdown",
      "source": [
        "5.\n",
        "\n",
        "Jane is 16 years old and is 153cm tall.\n",
        "<br>\n",
        "Check if Jane can ride a roller coaster.\n",
        "<br>\n",
        "<br>\n",
        "\n",
        "To ride a roller coaster,\n",
        "<br>\n",
        "one should meet all of the following conditions:\n",
        "1. over 150cm\n",
        "2. over 15 years old"
      ],
      "metadata": {
        "id": "p-uopFWTCTzH"
      }
    },
    {
      "cell_type": "code",
      "source": [],
      "metadata": {
        "id": "6egEI-k6CSxP"
      },
      "execution_count": null,
      "outputs": []
    },
    {
      "cell_type": "code",
      "source": [
        "#@title Answer\n",
        "\n",
        "age = 16\n",
        "height = 153\n",
        "\n",
        "can_ride = age > 15 and height > 150\n",
        "print(\"can ride:\", can_ride)"
      ],
      "metadata": {
        "id": "mCXv-X0gsPeN"
      },
      "execution_count": null,
      "outputs": []
    }
  ]
}