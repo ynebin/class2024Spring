{
  "nbformat": 4,
  "nbformat_minor": 0,
  "metadata": {
    "colab": {
      "provenance": [],
      "authorship_tag": "ABX9TyPWfmJVqlSJ/pXwYrEYEA3h",
      "include_colab_link": true
    },
    "kernelspec": {
      "name": "python3",
      "display_name": "Python 3"
    },
    "language_info": {
      "name": "python"
    }
  },
  "cells": [
    {
      "cell_type": "markdown",
      "metadata": {
        "id": "view-in-github",
        "colab_type": "text"
      },
      "source": [
        "<a href=\"https://colab.research.google.com/github/ynebin/class2024Spring/blob/main/W05_0405.ipynb\" target=\"_parent\"><img src=\"https://colab.research.google.com/assets/colab-badge.svg\" alt=\"Open In Colab\"/></a>"
      ]
    },
    {
      "cell_type": "markdown",
      "source": [
        "<h1>Week 5.\n",
        "<br>\n",
        "String Formatting & File Handling</h1>"
      ],
      "metadata": {
        "id": "08Gh79UrskvA"
      }
    },
    {
      "cell_type": "markdown",
      "source": [
        "## String Formatting\n",
        "\n",
        "The process of creating dynamic strings without the need to manually concatenate multiple strings"
      ],
      "metadata": {
        "id": "6ani9wS2s00d"
      }
    },
    {
      "cell_type": "code",
      "execution_count": null,
      "metadata": {
        "id": "dRQH0oI-sdwV"
      },
      "outputs": [],
      "source": [
        "# This is not string formatting!\n",
        "\n",
        "name = \"python\"\n",
        "sentence = \"Hello, welcome to \" + name + \" programming!\"\n",
        "\n",
        "# You have to concatenate strings to create a message\n",
        "print(sentence)"
      ]
    },
    {
      "cell_type": "code",
      "source": [
        "# This is not string formatting!\n",
        "\n",
        "name = \"python\"\n",
        "\n",
        "# You have to concatenate strings to create a message\n",
        "print(\"Hello, welcome to\", name, \"programming!\")"
      ],
      "metadata": {
        "id": "bQbX2xqav2Xo"
      },
      "execution_count": null,
      "outputs": []
    },
    {
      "cell_type": "markdown",
      "source": [
        "<h3>.format()</h3>\n",
        "\n",
        "- Uses curly braces {} as placeholders within the string\n",
        "- Placeholders are replaced with values"
      ],
      "metadata": {
        "id": "P9bojc88vT9f"
      }
    },
    {
      "cell_type": "code",
      "source": [
        "sentence = \"Hello, welcome to {} programming!\".format(name)\n",
        "print(sentence)"
      ],
      "metadata": {
        "id": "ey4oJFH9uhGE"
      },
      "execution_count": null,
      "outputs": []
    },
    {
      "cell_type": "markdown",
      "source": [
        "<h3>f-string</h3>\n",
        "\n",
        "- Introduced in Python 3.6\n",
        "- Variables and expressions are embedded directly within curly braces"
      ],
      "metadata": {
        "id": "TtMw_RofwTqc"
      }
    },
    {
      "cell_type": "code",
      "source": [
        "sentence = f\"Hello, welcome to {name} programming!\"\n",
        "print(sentence)"
      ],
      "metadata": {
        "id": "-wer_ihovwUT"
      },
      "execution_count": null,
      "outputs": []
    },
    {
      "cell_type": "markdown",
      "source": [
        "### String Formatting: Exercise"
      ],
      "metadata": {
        "id": "1SIwdgz8wvIt"
      }
    },
    {
      "cell_type": "markdown",
      "source": [
        "1.\n",
        "\n",
        "Print a greeting message using the `name` variable and either the `.format()` method or an f-string."
      ],
      "metadata": {
        "id": "F6mK0jTZHeQE"
      }
    },
    {
      "cell_type": "code",
      "source": [
        "name = \"Taylor\"\n",
        "\n",
        "# Start from here!"
      ],
      "metadata": {
        "id": "ga6VPs-5HnVI"
      },
      "execution_count": null,
      "outputs": []
    },
    {
      "cell_type": "code",
      "source": [
        "#@title Answer\n",
        "\n",
        "# Answer 1\n",
        "name = \"Taylor\"\n",
        "print(\"Hello, {}!\".format(name))\n",
        "\n",
        "# Answer 2\n",
        "print(f\"Hello, {name}!\")"
      ],
      "metadata": {
        "id": "z8Uo8cG_Hngg"
      },
      "execution_count": null,
      "outputs": []
    },
    {
      "cell_type": "markdown",
      "source": [
        "2.\n",
        "\n",
        "Create a string representing an email address based on a username and domain name. Use either the `.format()` method or an f-string."
      ],
      "metadata": {
        "id": "yBCJ0gScyu8U"
      }
    },
    {
      "cell_type": "code",
      "source": [
        "username = \"user123\"\n",
        "domain_name = \"example@com\"\n",
        "\n",
        "# Start from here!"
      ],
      "metadata": {
        "id": "49fvYzxczFnJ"
      },
      "execution_count": null,
      "outputs": []
    },
    {
      "cell_type": "code",
      "source": [
        "#@title Answer\n",
        "\n",
        "username = \"user123\"\n",
        "domain_name = \"example.com\"\n",
        "\n",
        "# Answer 1\n",
        "email_1 = \"{}@{}\".format(username, domain_name)\n",
        "print(email_1)\n",
        "\n",
        "# Answer 2\n",
        "email_2 = f\"{username}@{domain_name}\"\n",
        "print(email_2)"
      ],
      "metadata": {
        "id": "kGqBvfiCzF8o"
      },
      "execution_count": null,
      "outputs": []
    },
    {
      "cell_type": "markdown",
      "source": [
        "3.\n",
        "\n",
        "Print each product's name and quantity using f-strings and the `.keys()` dictionary method."
      ],
      "metadata": {
        "id": "XGuIYdkdP-8o"
      }
    },
    {
      "cell_type": "code",
      "source": [
        "products = { \"Apple\": 5, \"Orange\": 10, \"Mango\": 3}\n",
        "\n",
        "# Start from here!"
      ],
      "metadata": {
        "id": "jEeERYhgQZ9v"
      },
      "execution_count": null,
      "outputs": []
    },
    {
      "cell_type": "code",
      "source": [
        "#@title Answer\n",
        "\n",
        "products = { \"Apple\": 5, \"Orange\": 10, \"Mango\": 3}\n",
        "\n",
        "for fruit in products.keys():\n",
        "  print(f\"{fruit}: {products[fruit]}\")"
      ],
      "metadata": {
        "id": "BqHyr_rAR8LM"
      },
      "execution_count": null,
      "outputs": []
    },
    {
      "cell_type": "markdown",
      "source": [
        "## File Handling"
      ],
      "metadata": {
        "id": "yvRN5e77wuQ9"
      }
    },
    {
      "cell_type": "markdown",
      "source": [
        "<h3>open()</h3>\n",
        "\n",
        "- A function used for opening and working with files\n",
        "- file mode\n",
        "  - `r`: read mode\n",
        "  - `w`: write mode\n",
        "  - `a`: append mode"
      ],
      "metadata": {
        "id": "KChsf6dPw9RW"
      }
    },
    {
      "cell_type": "code",
      "source": [
        "f = open(\"./test.txt\", \"w\")\n",
        "f.close()  # You should close the file!"
      ],
      "metadata": {
        "id": "fcqlrZtCwtY5"
      },
      "execution_count": null,
      "outputs": []
    },
    {
      "cell_type": "markdown",
      "source": [
        "<h3>.write()</h3>\n",
        "\n",
        "A file object method that writes a string to a file"
      ],
      "metadata": {
        "id": "K_e-9qr7ClWD"
      }
    },
    {
      "cell_type": "code",
      "source": [
        "# Write mode\n",
        "\n",
        "with open(\"./test.txt\", \"w\") as f:\n",
        "  f.write(\"Hello!\")"
      ],
      "metadata": {
        "id": "MsLU-h2GC9Gp"
      },
      "execution_count": null,
      "outputs": []
    },
    {
      "cell_type": "code",
      "source": [
        "# You can use .write() method multiple times.\n",
        "\n",
        "with open(\"./test.txt\", \"w\") as f:\n",
        "  f.write(\"Python\")\n",
        "  f.write(\" \")\n",
        "  f.write(\"Programming\")"
      ],
      "metadata": {
        "id": "lbZOrjGRDchD"
      },
      "execution_count": null,
      "outputs": []
    },
    {
      "cell_type": "code",
      "source": [
        "# Append mode\n",
        "\n",
        "with open(\"./test.txt\", \"a\") as f:\n",
        "  f.write(\"Hello Python!\")"
      ],
      "metadata": {
        "id": "r21NY4WvDjoy"
      },
      "execution_count": null,
      "outputs": []
    },
    {
      "cell_type": "code",
      "source": [
        "# Newline\n",
        "\n",
        "with open(\"./test.txt\", \"w\") as f:\n",
        "  f.write(\"Apple\\n\")\n",
        "  f.write(\"Banana\\n\")\n",
        "  f.write(\"Orange\\n\")"
      ],
      "metadata": {
        "id": "5w4QgLg4DoY8"
      },
      "execution_count": null,
      "outputs": []
    },
    {
      "cell_type": "markdown",
      "source": [
        "<h3>.read()</h3>\n",
        "\n",
        "A file object method that reads the entire contents of a file as a single string"
      ],
      "metadata": {
        "id": "SE_9Lww7EVnt"
      }
    },
    {
      "cell_type": "code",
      "source": [
        "with open(\"./test.txt\", \"r\") as f:\n",
        "  whole_contents = f.read()\n",
        "\n",
        "print(whole_contents)"
      ],
      "metadata": {
        "id": "I3D2YHDMEct2"
      },
      "execution_count": null,
      "outputs": []
    },
    {
      "cell_type": "markdown",
      "source": [
        "<h3>.readlines()</h3>\n",
        "\n",
        "A file object method that reads the lines of a file into a list"
      ],
      "metadata": {
        "id": "xm8zpIyPEqt8"
      }
    },
    {
      "cell_type": "code",
      "source": [
        "with open(\"./test.txt\", \"r\") as f:\n",
        "  contents_list = f.readlines()\n",
        "\n",
        "print(contents_list)"
      ],
      "metadata": {
        "id": "RyH701yWEpk0"
      },
      "execution_count": null,
      "outputs": []
    },
    {
      "cell_type": "markdown",
      "source": [
        "<h3>List Comprehension</h3>\n",
        "\n",
        "A simple way to create lists that require `for` loops"
      ],
      "metadata": {
        "id": "19mWE9sbFYm5"
      }
    },
    {
      "cell_type": "code",
      "source": [
        "a = [1, 2, 3, 4]\n",
        "b = []  # desired result: [2, 3, 4, 5]\n",
        "\n",
        "for i in a:\n",
        "  b.append(i + 1)\n",
        "\n",
        "print(a)\n",
        "print(b)"
      ],
      "metadata": {
        "id": "E8oKhkaXFmLn"
      },
      "execution_count": null,
      "outputs": []
    },
    {
      "cell_type": "code",
      "source": [
        "# List comprehension\n",
        "\n",
        "new_b = [i + 1 for i in a]\n",
        "print(new_b)"
      ],
      "metadata": {
        "id": "NhTWeVNiF2if"
      },
      "execution_count": null,
      "outputs": []
    },
    {
      "cell_type": "markdown",
      "source": [
        "<h3>.strip()</h3>\n",
        "\n",
        "A string method that returns a string without leading and trailing whitespaces"
      ],
      "metadata": {
        "id": "T9vIOMr9Gckm"
      }
    },
    {
      "cell_type": "code",
      "source": [
        "sentence = \"   Hello!\\n\"\n",
        "clean_sentence = sentence.strip()\n",
        "\n",
        "print(sentence)\n",
        "print(clean_sentence)"
      ],
      "metadata": {
        "id": "6Hhk4fayGlcE"
      },
      "execution_count": null,
      "outputs": []
    },
    {
      "cell_type": "code",
      "source": [
        "clean_contents_list = [contents.strip() for contents in contents_list]\n",
        "\n",
        "print(contents_list)\n",
        "print(clean_contents_list)"
      ],
      "metadata": {
        "id": "uuuaM-sEF_pV"
      },
      "execution_count": null,
      "outputs": []
    },
    {
      "cell_type": "markdown",
      "source": [
        "### File Handling: Exercise"
      ],
      "metadata": {
        "id": "9Unev4cbI8N5"
      }
    },
    {
      "cell_type": "markdown",
      "source": [
        "1.\n",
        "\n",
        "Create a file named `exercise.txt` and write the following text with a newline at the end:\n",
        "<br>\n",
        "<br>\n",
        "The sun set behind the horizon, painting the sky in hues of orange and pink."
      ],
      "metadata": {
        "id": "7vBcB-bQJckO"
      }
    },
    {
      "cell_type": "code",
      "source": [],
      "metadata": {
        "id": "SzK07fj-Kd5v"
      },
      "execution_count": null,
      "outputs": []
    },
    {
      "cell_type": "code",
      "source": [
        "#@title Answer\n",
        "\n",
        "with open(\"./exercise.txt\", \"w\") as f:\n",
        "  f.write(\"The sun set behind the horizon, painting the sky in hues of orange and pink.\\n\")"
      ],
      "metadata": {
        "id": "spBtPFO4KeY-"
      },
      "execution_count": null,
      "outputs": []
    },
    {
      "cell_type": "markdown",
      "source": [
        "2.\n",
        "\n",
        "(Continued from 1.)\n",
        "<br>\n",
        "Count the number of words in `exercise.txt`."
      ],
      "metadata": {
        "id": "0p-05Nq7LN5n"
      }
    },
    {
      "cell_type": "code",
      "source": [],
      "metadata": {
        "id": "tXbcgVm7Mupk"
      },
      "execution_count": null,
      "outputs": []
    },
    {
      "cell_type": "code",
      "source": [
        "#@title Answer\n",
        "\n",
        "with open(\"./exercise.txt\", \"r\") as f:\n",
        "  text = f.read()\n",
        "\n",
        "clean_text = text.strip()  # Not needed in this example, but there is no harm in doing so\n",
        "split_text = clean_text.split(\" \")\n",
        "\n",
        "print(f\"number of words: {len(split_text)}\")"
      ],
      "metadata": {
        "id": "3cj1tH0LLZNk"
      },
      "execution_count": null,
      "outputs": []
    },
    {
      "cell_type": "markdown",
      "source": [
        "3.\n",
        "\n",
        "(Continued from 2.)\n",
        "<br>\n",
        "Add the following two sentences in `exercise.txt`. Each sentence should occupy its own line in `exercise.txt`:\n",
        "<br>\n",
        "<br>\n",
        "The aroma of freshly baked cookies filled the kitchen, enticing everyone nearby.\n",
        "<br>\n",
        "After a long day at work, she curled up with a good book and a cup of tea, finding solace in the pages."
      ],
      "metadata": {
        "id": "E7X237nzMK03"
      }
    },
    {
      "cell_type": "code",
      "source": [],
      "metadata": {
        "id": "8fMVy136OXlu"
      },
      "execution_count": null,
      "outputs": []
    },
    {
      "cell_type": "code",
      "source": [
        "#@title Answer\n",
        "\n",
        "with open(\"./exercise.txt\", \"a\") as f:\n",
        "  f.write(\"The aroma of freshly baked cookies filled the kitchen, enticing everyone nearby.\\n\")\n",
        "  f.write(\"After a long day at work, she curled up with a good book and a cup of tea, finding solace in the pages.\\n\")"
      ],
      "metadata": {
        "id": "ZVOjhpcaMxiu"
      },
      "execution_count": null,
      "outputs": []
    },
    {
      "cell_type": "markdown",
      "source": [
        "4.\n",
        "\n",
        "Write each element from `groceries` to a file named `grocery.txt`.\n",
        "<br>\n",
        "Each element should occupy its own line."
      ],
      "metadata": {
        "id": "fDR11RiHN8RE"
      }
    },
    {
      "cell_type": "code",
      "source": [
        "groceries = [\"Apples\", \"Breads\", \"Milk\"]\n",
        "\n",
        "# Start from here!"
      ],
      "metadata": {
        "id": "eZCJHkxGOWlq"
      },
      "execution_count": null,
      "outputs": []
    },
    {
      "cell_type": "code",
      "source": [
        "#@title Answer\n",
        "\n",
        "groceries = [\"Apples\", \"Breads\", \"Milk\"]\n",
        "\n",
        "with open(\"./grocery.txt\", \"w\") as f:\n",
        "  for product in groceries:\n",
        "    f.write(f\"{product}\\n\")"
      ],
      "metadata": {
        "id": "XmXY9G1HOYND"
      },
      "execution_count": null,
      "outputs": []
    },
    {
      "cell_type": "markdown",
      "source": [
        "5.\n",
        "\n",
        "Convert a list of temperatures measured in Fahrenheit to Celsius using list comprehension.\n",
        "<br>\n",
        "<br>\n",
        "Formula: $C = \\frac{5}{9}(F - 32)$"
      ],
      "metadata": {
        "id": "wJl8u_tCTYIp"
      }
    },
    {
      "cell_type": "code",
      "source": [
        "f_temperatures = [50, -4, 41, 104]\n",
        "\n",
        "# Start from here!"
      ],
      "metadata": {
        "id": "SOfbGuw1TjqM"
      },
      "execution_count": null,
      "outputs": []
    },
    {
      "cell_type": "code",
      "source": [
        "#@title Answer\n",
        "\n",
        "f_temperatures = [50, -4, 41, 104]\n",
        "\n",
        "c_temperatures = [5 / 9 * (f - 32) for f in f_temperatures]\n",
        "print(f\"Celsius: {c_temperatures}\")"
      ],
      "metadata": {
        "id": "TdbwbPQSTj1Y"
      },
      "execution_count": null,
      "outputs": []
    }
  ]
}